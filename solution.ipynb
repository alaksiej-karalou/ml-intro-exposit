{
 "cells": [
  {
   "cell_type": "markdown",
   "metadata": {
    "collapsed": true,
    "pycharm": {
     "name": "#%% md\n"
    }
   },
   "source": [
    "# Context"
   ]
  },
  {
   "cell_type": "code",
   "execution_count": 1,
   "metadata": {
    "pycharm": {
     "name": "#%%\n"
    }
   },
   "outputs": [],
   "source": [
    "import pandas as pd\n",
    "import seaborn as sns"
   ]
  },
  {
   "cell_type": "code",
   "execution_count": 2,
   "metadata": {},
   "outputs": [],
   "source": [
    "train_data = pd.read_csv('data/train.csv', skipinitialspace = True)\n",
    "codes_data = pd.read_csv('data/codes.csv', sep = ';')\n",
    "types_data = pd.read_csv('data/types.csv', sep = ';')"
   ]
  },
  {
   "cell_type": "markdown",
   "metadata": {
    "pycharm": {
     "name": "#%%\n"
    }
   },
   "source": [
    "# Data Exploration"
   ]
  },
  {
   "cell_type": "markdown",
   "metadata": {},
   "source": [
    "## train.csv"
   ]
  },
  {
   "cell_type": "markdown",
   "metadata": {},
   "source": [
    "`train_data.csv` file has 4400 rows and 6 columns. Let's verify does `train_data` variable has correct shape"
   ]
  },
  {
   "cell_type": "code",
   "execution_count": 3,
   "metadata": {},
   "outputs": [
    {
     "data": {
      "text/plain": [
       "(4400, 6)"
      ]
     },
     "execution_count": 3,
     "metadata": {},
     "output_type": "execute_result"
    }
   ],
   "source": [
    "train_data.shape"
   ]
  },
  {
   "cell_type": "markdown",
   "metadata": {},
   "source": [
    "So, `train_data` has correctly information about provided dataset"
   ]
  },
  {
   "cell_type": "markdown",
   "metadata": {},
   "source": [
    "Let's verify columns by printing preview of `train_data`"
   ]
  },
  {
   "cell_type": "code",
   "execution_count": 4,
   "metadata": {},
   "outputs": [
    {
     "data": {
      "text/html": [
       "<div>\n",
       "<style scoped>\n",
       "    .dataframe tbody tr th:only-of-type {\n",
       "        vertical-align: middle;\n",
       "    }\n",
       "\n",
       "    .dataframe tbody tr th {\n",
       "        vertical-align: top;\n",
       "    }\n",
       "\n",
       "    .dataframe thead th {\n",
       "        text-align: right;\n",
       "    }\n",
       "</style>\n",
       "<table border=\"1\" class=\"dataframe\">\n",
       "  <thead>\n",
       "    <tr style=\"text-align: right;\">\n",
       "      <th></th>\n",
       "      <th>client_id</th>\n",
       "      <th>datetime</th>\n",
       "      <th>code</th>\n",
       "      <th>type</th>\n",
       "      <th>amount</th>\n",
       "      <th>target</th>\n",
       "    </tr>\n",
       "  </thead>\n",
       "  <tbody>\n",
       "    <tr>\n",
       "      <th>0</th>\n",
       "      <td>16004843</td>\n",
       "      <td>245 22:10:18</td>\n",
       "      <td>5411</td>\n",
       "      <td>1010</td>\n",
       "      <td>-7928.08</td>\n",
       "      <td>0</td>\n",
       "    </tr>\n",
       "    <tr>\n",
       "      <th>1</th>\n",
       "      <td>20873616</td>\n",
       "      <td>433 07:44:21</td>\n",
       "      <td>4814</td>\n",
       "      <td>1030</td>\n",
       "      <td>-56.15</td>\n",
       "      <td>0</td>\n",
       "    </tr>\n",
       "    <tr>\n",
       "      <th>2</th>\n",
       "      <td>65231233</td>\n",
       "      <td>164 15:58:23</td>\n",
       "      <td>5411</td>\n",
       "      <td>1010</td>\n",
       "      <td>-4689.47</td>\n",
       "      <td>1</td>\n",
       "    </tr>\n",
       "    <tr>\n",
       "      <th>3</th>\n",
       "      <td>29536165</td>\n",
       "      <td>413 11:47:51</td>\n",
       "      <td>5411</td>\n",
       "      <td>1010</td>\n",
       "      <td>-3703.52</td>\n",
       "      <td>1</td>\n",
       "    </tr>\n",
       "    <tr>\n",
       "      <th>4</th>\n",
       "      <td>66473821</td>\n",
       "      <td>280 05:17:26</td>\n",
       "      <td>6010</td>\n",
       "      <td>7030</td>\n",
       "      <td>67377.47</td>\n",
       "      <td>1</td>\n",
       "    </tr>\n",
       "  </tbody>\n",
       "</table>\n",
       "</div>"
      ],
      "text/plain": [
       "   client_id      datetime  code  type    amount  target\n",
       "0   16004843  245 22:10:18  5411  1010  -7928.08       0\n",
       "1   20873616  433 07:44:21  4814  1030    -56.15       0\n",
       "2   65231233  164 15:58:23  5411  1010  -4689.47       1\n",
       "3   29536165  413 11:47:51  5411  1010  -3703.52       1\n",
       "4   66473821  280 05:17:26  6010  7030  67377.47       1"
      ]
     },
     "execution_count": 4,
     "metadata": {},
     "output_type": "execute_result"
    }
   ],
   "source": [
    "train_data.head()"
   ]
  },
  {
   "cell_type": "markdown",
   "metadata": {},
   "source": [
    "Let's explore `train_data` columns:"
   ]
  },
  {
   "cell_type": "code",
   "execution_count": 5,
   "metadata": {
    "scrolled": false
   },
   "outputs": [
    {
     "data": {
      "text/html": [
       "<div>\n",
       "<style scoped>\n",
       "    .dataframe tbody tr th:only-of-type {\n",
       "        vertical-align: middle;\n",
       "    }\n",
       "\n",
       "    .dataframe tbody tr th {\n",
       "        vertical-align: top;\n",
       "    }\n",
       "\n",
       "    .dataframe thead th {\n",
       "        text-align: right;\n",
       "    }\n",
       "</style>\n",
       "<table border=\"1\" class=\"dataframe\">\n",
       "  <thead>\n",
       "    <tr style=\"text-align: right;\">\n",
       "      <th></th>\n",
       "      <th>client_id</th>\n",
       "      <th>code</th>\n",
       "      <th>type</th>\n",
       "      <th>amount</th>\n",
       "      <th>target</th>\n",
       "    </tr>\n",
       "  </thead>\n",
       "  <tbody>\n",
       "    <tr>\n",
       "      <th>count</th>\n",
       "      <td>4400.00</td>\n",
       "      <td>4400.00</td>\n",
       "      <td>4400.00</td>\n",
       "      <td>4400.00</td>\n",
       "      <td>4400.00</td>\n",
       "    </tr>\n",
       "    <tr>\n",
       "      <th>mean</th>\n",
       "      <td>51180948.42</td>\n",
       "      <td>5591.18</td>\n",
       "      <td>2477.99</td>\n",
       "      <td>-25829.42</td>\n",
       "      <td>0.45</td>\n",
       "    </tr>\n",
       "    <tr>\n",
       "      <th>std</th>\n",
       "      <td>28459423.46</td>\n",
       "      <td>618.25</td>\n",
       "      <td>2239.28</td>\n",
       "      <td>379993.04</td>\n",
       "      <td>0.50</td>\n",
       "    </tr>\n",
       "    <tr>\n",
       "      <th>min</th>\n",
       "      <td>31385.00</td>\n",
       "      <td>742.00</td>\n",
       "      <td>1010.00</td>\n",
       "      <td>-11229578.86</td>\n",
       "      <td>0.00</td>\n",
       "    </tr>\n",
       "    <tr>\n",
       "      <th>25%</th>\n",
       "      <td>26409535.00</td>\n",
       "      <td>5211.00</td>\n",
       "      <td>1030.00</td>\n",
       "      <td>-22459.16</td>\n",
       "      <td>0.00</td>\n",
       "    </tr>\n",
       "    <tr>\n",
       "      <th>50%</th>\n",
       "      <td>53203093.50</td>\n",
       "      <td>5541.00</td>\n",
       "      <td>1110.00</td>\n",
       "      <td>-5362.35</td>\n",
       "      <td>0.00</td>\n",
       "    </tr>\n",
       "    <tr>\n",
       "      <th>75%</th>\n",
       "      <td>75082762.25</td>\n",
       "      <td>6010.00</td>\n",
       "      <td>2370.00</td>\n",
       "      <td>-1122.96</td>\n",
       "      <td>1.00</td>\n",
       "    </tr>\n",
       "    <tr>\n",
       "      <th>max</th>\n",
       "      <td>99938948.00</td>\n",
       "      <td>9399.00</td>\n",
       "      <td>7075.00</td>\n",
       "      <td>6737747.32</td>\n",
       "      <td>1.00</td>\n",
       "    </tr>\n",
       "  </tbody>\n",
       "</table>\n",
       "</div>"
      ],
      "text/plain": [
       "         client_id     code     type        amount   target\n",
       "count      4400.00  4400.00  4400.00       4400.00  4400.00\n",
       "mean   51180948.42  5591.18  2477.99     -25829.42     0.45\n",
       "std    28459423.46   618.25  2239.28     379993.04     0.50\n",
       "min       31385.00   742.00  1010.00  -11229578.86     0.00\n",
       "25%    26409535.00  5211.00  1030.00     -22459.16     0.00\n",
       "50%    53203093.50  5541.00  1110.00      -5362.35     0.00\n",
       "75%    75082762.25  6010.00  2370.00      -1122.96     1.00\n",
       "max    99938948.00  9399.00  7075.00    6737747.32     1.00"
      ]
     },
     "execution_count": 5,
     "metadata": {},
     "output_type": "execute_result"
    }
   ],
   "source": [
    "train_data.describe().apply(lambda s: s.apply('{0:.2f}'.format))"
   ]
  },
  {
   "cell_type": "markdown",
   "metadata": {},
   "source": [
    "Let's explore `train_data` column types:"
   ]
  },
  {
   "cell_type": "code",
   "execution_count": 6,
   "metadata": {},
   "outputs": [
    {
     "data": {
      "text/plain": [
       "client_id      int64\n",
       "datetime      object\n",
       "code           int64\n",
       "type           int64\n",
       "amount       float64\n",
       "target         int64\n",
       "dtype: object"
      ]
     },
     "execution_count": 6,
     "metadata": {},
     "output_type": "execute_result"
    }
   ],
   "source": [
    "train_data.dtypes"
   ]
  },
  {
   "cell_type": "markdown",
   "metadata": {},
   "source": [
    "Let's calclulate number of unique `client_id` items. May be they are unique?"
   ]
  },
  {
   "cell_type": "code",
   "execution_count": 7,
   "metadata": {},
   "outputs": [
    {
     "data": {
      "text/plain": [
       "False"
      ]
     },
     "execution_count": 7,
     "metadata": {},
     "output_type": "execute_result"
    }
   ],
   "source": [
    "train_data['client_id'].is_unique"
   ]
  },
  {
   "cell_type": "markdown",
   "metadata": {},
   "source": [
    "So, client_id has duplicated values and cannot be used as column id"
   ]
  },
  {
   "cell_type": "markdown",
   "metadata": {},
   "source": [
    "Let split `datetime` column to 2 independent"
   ]
  },
  {
   "cell_type": "code",
   "execution_count": 8,
   "metadata": {
    "scrolled": true
   },
   "outputs": [
    {
     "data": {
      "text/html": [
       "<div>\n",
       "<style scoped>\n",
       "    .dataframe tbody tr th:only-of-type {\n",
       "        vertical-align: middle;\n",
       "    }\n",
       "\n",
       "    .dataframe tbody tr th {\n",
       "        vertical-align: top;\n",
       "    }\n",
       "\n",
       "    .dataframe thead th {\n",
       "        text-align: right;\n",
       "    }\n",
       "</style>\n",
       "<table border=\"1\" class=\"dataframe\">\n",
       "  <thead>\n",
       "    <tr style=\"text-align: right;\">\n",
       "      <th></th>\n",
       "      <th>client_id</th>\n",
       "      <th>code</th>\n",
       "      <th>type</th>\n",
       "      <th>amount</th>\n",
       "      <th>target</th>\n",
       "      <th>unknown_0</th>\n",
       "      <th>time</th>\n",
       "    </tr>\n",
       "  </thead>\n",
       "  <tbody>\n",
       "    <tr>\n",
       "      <th>0</th>\n",
       "      <td>16004843</td>\n",
       "      <td>5411</td>\n",
       "      <td>1010</td>\n",
       "      <td>-7928.08</td>\n",
       "      <td>0</td>\n",
       "      <td>245</td>\n",
       "      <td>22:10:18</td>\n",
       "    </tr>\n",
       "    <tr>\n",
       "      <th>1</th>\n",
       "      <td>20873616</td>\n",
       "      <td>4814</td>\n",
       "      <td>1030</td>\n",
       "      <td>-56.15</td>\n",
       "      <td>0</td>\n",
       "      <td>433</td>\n",
       "      <td>07:44:21</td>\n",
       "    </tr>\n",
       "    <tr>\n",
       "      <th>2</th>\n",
       "      <td>65231233</td>\n",
       "      <td>5411</td>\n",
       "      <td>1010</td>\n",
       "      <td>-4689.47</td>\n",
       "      <td>1</td>\n",
       "      <td>164</td>\n",
       "      <td>15:58:23</td>\n",
       "    </tr>\n",
       "    <tr>\n",
       "      <th>3</th>\n",
       "      <td>29536165</td>\n",
       "      <td>5411</td>\n",
       "      <td>1010</td>\n",
       "      <td>-3703.52</td>\n",
       "      <td>1</td>\n",
       "      <td>413</td>\n",
       "      <td>11:47:51</td>\n",
       "    </tr>\n",
       "    <tr>\n",
       "      <th>4</th>\n",
       "      <td>66473821</td>\n",
       "      <td>6010</td>\n",
       "      <td>7030</td>\n",
       "      <td>67377.47</td>\n",
       "      <td>1</td>\n",
       "      <td>280</td>\n",
       "      <td>05:17:26</td>\n",
       "    </tr>\n",
       "  </tbody>\n",
       "</table>\n",
       "</div>"
      ],
      "text/plain": [
       "   client_id  code  type    amount  target  unknown_0      time\n",
       "0   16004843  5411  1010  -7928.08       0        245  22:10:18\n",
       "1   20873616  4814  1030    -56.15       0        433  07:44:21\n",
       "2   65231233  5411  1010  -4689.47       1        164  15:58:23\n",
       "3   29536165  5411  1010  -3703.52       1        413  11:47:51\n",
       "4   66473821  6010  7030  67377.47       1        280  05:17:26"
      ]
     },
     "execution_count": 8,
     "metadata": {},
     "output_type": "execute_result"
    }
   ],
   "source": [
    "train_data[['unknown_0', 'time']] = train_data['datetime'].str.split(' ', expand = True).apply(lambda x: x.str.strip())\n",
    "train_data.drop('datetime', axis = 1, inplace = True)\n",
    "train_data['unknown_0'] = train_data['unknown_0'].astype('int')\n",
    "train_data.head()"
   ]
  },
  {
   "cell_type": "markdown",
   "metadata": {},
   "source": [
    "Let's convert time to seconds:"
   ]
  },
  {
   "cell_type": "code",
   "execution_count": 9,
   "metadata": {},
   "outputs": [
    {
     "data": {
      "text/html": [
       "<div>\n",
       "<style scoped>\n",
       "    .dataframe tbody tr th:only-of-type {\n",
       "        vertical-align: middle;\n",
       "    }\n",
       "\n",
       "    .dataframe tbody tr th {\n",
       "        vertical-align: top;\n",
       "    }\n",
       "\n",
       "    .dataframe thead th {\n",
       "        text-align: right;\n",
       "    }\n",
       "</style>\n",
       "<table border=\"1\" class=\"dataframe\">\n",
       "  <thead>\n",
       "    <tr style=\"text-align: right;\">\n",
       "      <th></th>\n",
       "      <th>client_id</th>\n",
       "      <th>code</th>\n",
       "      <th>type</th>\n",
       "      <th>amount</th>\n",
       "      <th>target</th>\n",
       "      <th>unknown_0</th>\n",
       "      <th>time</th>\n",
       "    </tr>\n",
       "  </thead>\n",
       "  <tbody>\n",
       "    <tr>\n",
       "      <th>0</th>\n",
       "      <td>16004843</td>\n",
       "      <td>5411</td>\n",
       "      <td>1010</td>\n",
       "      <td>-7928.08</td>\n",
       "      <td>0</td>\n",
       "      <td>245</td>\n",
       "      <td>79818</td>\n",
       "    </tr>\n",
       "    <tr>\n",
       "      <th>1</th>\n",
       "      <td>20873616</td>\n",
       "      <td>4814</td>\n",
       "      <td>1030</td>\n",
       "      <td>-56.15</td>\n",
       "      <td>0</td>\n",
       "      <td>433</td>\n",
       "      <td>27861</td>\n",
       "    </tr>\n",
       "    <tr>\n",
       "      <th>2</th>\n",
       "      <td>65231233</td>\n",
       "      <td>5411</td>\n",
       "      <td>1010</td>\n",
       "      <td>-4689.47</td>\n",
       "      <td>1</td>\n",
       "      <td>164</td>\n",
       "      <td>57503</td>\n",
       "    </tr>\n",
       "    <tr>\n",
       "      <th>3</th>\n",
       "      <td>29536165</td>\n",
       "      <td>5411</td>\n",
       "      <td>1010</td>\n",
       "      <td>-3703.52</td>\n",
       "      <td>1</td>\n",
       "      <td>413</td>\n",
       "      <td>42471</td>\n",
       "    </tr>\n",
       "    <tr>\n",
       "      <th>4</th>\n",
       "      <td>66473821</td>\n",
       "      <td>6010</td>\n",
       "      <td>7030</td>\n",
       "      <td>67377.47</td>\n",
       "      <td>1</td>\n",
       "      <td>280</td>\n",
       "      <td>19046</td>\n",
       "    </tr>\n",
       "    <tr>\n",
       "      <th>...</th>\n",
       "      <td>...</td>\n",
       "      <td>...</td>\n",
       "      <td>...</td>\n",
       "      <td>...</td>\n",
       "      <td>...</td>\n",
       "      <td>...</td>\n",
       "      <td>...</td>\n",
       "    </tr>\n",
       "    <tr>\n",
       "      <th>4395</th>\n",
       "      <td>15762885</td>\n",
       "      <td>5499</td>\n",
       "      <td>1110</td>\n",
       "      <td>-6288.56</td>\n",
       "      <td>1</td>\n",
       "      <td>435</td>\n",
       "      <td>0</td>\n",
       "    </tr>\n",
       "    <tr>\n",
       "      <th>4396</th>\n",
       "      <td>32301971</td>\n",
       "      <td>5411</td>\n",
       "      <td>1010</td>\n",
       "      <td>-4289.70</td>\n",
       "      <td>0</td>\n",
       "      <td>395</td>\n",
       "      <td>77346</td>\n",
       "    </tr>\n",
       "    <tr>\n",
       "      <th>4397</th>\n",
       "      <td>28558979</td>\n",
       "      <td>6011</td>\n",
       "      <td>2011</td>\n",
       "      <td>-89836.63</td>\n",
       "      <td>1</td>\n",
       "      <td>41</td>\n",
       "      <td>22149</td>\n",
       "    </tr>\n",
       "    <tr>\n",
       "      <th>4398</th>\n",
       "      <td>87252636</td>\n",
       "      <td>6010</td>\n",
       "      <td>7071</td>\n",
       "      <td>59584.15</td>\n",
       "      <td>0</td>\n",
       "      <td>438</td>\n",
       "      <td>54284</td>\n",
       "    </tr>\n",
       "    <tr>\n",
       "      <th>4399</th>\n",
       "      <td>7654410</td>\n",
       "      <td>4814</td>\n",
       "      <td>1030</td>\n",
       "      <td>-5614.79</td>\n",
       "      <td>0</td>\n",
       "      <td>5</td>\n",
       "      <td>53416</td>\n",
       "    </tr>\n",
       "  </tbody>\n",
       "</table>\n",
       "<p>4400 rows × 7 columns</p>\n",
       "</div>"
      ],
      "text/plain": [
       "      client_id  code  type    amount  target  unknown_0   time\n",
       "0      16004843  5411  1010  -7928.08       0        245  79818\n",
       "1      20873616  4814  1030    -56.15       0        433  27861\n",
       "2      65231233  5411  1010  -4689.47       1        164  57503\n",
       "3      29536165  5411  1010  -3703.52       1        413  42471\n",
       "4      66473821  6010  7030  67377.47       1        280  19046\n",
       "...         ...   ...   ...       ...     ...        ...    ...\n",
       "4395   15762885  5499  1110  -6288.56       1        435      0\n",
       "4396   32301971  5411  1010  -4289.70       0        395  77346\n",
       "4397   28558979  6011  2011 -89836.63       1         41  22149\n",
       "4398   87252636  6010  7071  59584.15       0        438  54284\n",
       "4399    7654410  4814  1030  -5614.79       0          5  53416\n",
       "\n",
       "[4400 rows x 7 columns]"
      ]
     },
     "execution_count": 9,
     "metadata": {},
     "output_type": "execute_result"
    }
   ],
   "source": [
    "import time\n",
    "import datetime\n",
    "\n",
    "\n",
    "def convert_time_to_seconds(date):\n",
    "    t = time.strptime(date, '%H:%M:%S')\n",
    "    return int(datetime.timedelta(hours = t.tm_hour, minutes = t.tm_min, seconds = t.tm_sec).total_seconds())\n",
    "\n",
    "\n",
    "train_data['time'] = train_data['time'].apply(convert_time_to_seconds)\n",
    "train_data"
   ]
  },
  {
   "cell_type": "markdown",
   "metadata": {},
   "source": [
    "## codes.csv"
   ]
  },
  {
   "cell_type": "markdown",
   "metadata": {},
   "source": [
    "`codes.csv` file has 184 rows and 2 columns. Let's verify does `codes_data` variable has correct shape"
   ]
  },
  {
   "cell_type": "code",
   "execution_count": 10,
   "metadata": {},
   "outputs": [
    {
     "data": {
      "text/plain": [
       "(184, 2)"
      ]
     },
     "execution_count": 10,
     "metadata": {},
     "output_type": "execute_result"
    }
   ],
   "source": [
    "codes_data.shape"
   ]
  },
  {
   "cell_type": "markdown",
   "metadata": {},
   "source": [
    "So, `codes_data` has correctly information about provided dataset"
   ]
  },
  {
   "cell_type": "markdown",
   "metadata": {},
   "source": [
    "Let's explore `codes_data` columns and their types"
   ]
  },
  {
   "cell_type": "code",
   "execution_count": 11,
   "metadata": {},
   "outputs": [
    {
     "data": {
      "text/html": [
       "<div>\n",
       "<style scoped>\n",
       "    .dataframe tbody tr th:only-of-type {\n",
       "        vertical-align: middle;\n",
       "    }\n",
       "\n",
       "    .dataframe tbody tr th {\n",
       "        vertical-align: top;\n",
       "    }\n",
       "\n",
       "    .dataframe thead th {\n",
       "        text-align: right;\n",
       "    }\n",
       "</style>\n",
       "<table border=\"1\" class=\"dataframe\">\n",
       "  <thead>\n",
       "    <tr style=\"text-align: right;\">\n",
       "      <th></th>\n",
       "      <th>code</th>\n",
       "      <th>code_description</th>\n",
       "    </tr>\n",
       "  </thead>\n",
       "  <tbody>\n",
       "    <tr>\n",
       "      <th>0</th>\n",
       "      <td>5944</td>\n",
       "      <td>Магазины по продаже часов, ювелирных изделий и...</td>\n",
       "    </tr>\n",
       "    <tr>\n",
       "      <th>1</th>\n",
       "      <td>5621</td>\n",
       "      <td>Готовые сумочные изделия</td>\n",
       "    </tr>\n",
       "    <tr>\n",
       "      <th>2</th>\n",
       "      <td>5697</td>\n",
       "      <td>Услуги по переделке, починке и пошиву одежды</td>\n",
       "    </tr>\n",
       "    <tr>\n",
       "      <th>3</th>\n",
       "      <td>7995</td>\n",
       "      <td>Транзакции по азартным играм</td>\n",
       "    </tr>\n",
       "    <tr>\n",
       "      <th>4</th>\n",
       "      <td>5137</td>\n",
       "      <td>Мужская, женская и детская спец-одежда</td>\n",
       "    </tr>\n",
       "  </tbody>\n",
       "</table>\n",
       "</div>"
      ],
      "text/plain": [
       "   code                                   code_description\n",
       "0  5944  Магазины по продаже часов, ювелирных изделий и...\n",
       "1  5621                           Готовые сумочные изделия\n",
       "2  5697       Услуги по переделке, починке и пошиву одежды\n",
       "3  7995                       Транзакции по азартным играм\n",
       "4  5137             Мужская, женская и детская спец-одежда"
      ]
     },
     "execution_count": 11,
     "metadata": {},
     "output_type": "execute_result"
    }
   ],
   "source": [
    "codes_data.head()"
   ]
  },
  {
   "cell_type": "code",
   "execution_count": 12,
   "metadata": {},
   "outputs": [
    {
     "data": {
      "text/html": [
       "<div>\n",
       "<style scoped>\n",
       "    .dataframe tbody tr th:only-of-type {\n",
       "        vertical-align: middle;\n",
       "    }\n",
       "\n",
       "    .dataframe tbody tr th {\n",
       "        vertical-align: top;\n",
       "    }\n",
       "\n",
       "    .dataframe thead th {\n",
       "        text-align: right;\n",
       "    }\n",
       "</style>\n",
       "<table border=\"1\" class=\"dataframe\">\n",
       "  <thead>\n",
       "    <tr style=\"text-align: right;\">\n",
       "      <th></th>\n",
       "      <th>code</th>\n",
       "    </tr>\n",
       "  </thead>\n",
       "  <tbody>\n",
       "    <tr>\n",
       "      <th>count</th>\n",
       "      <td>184.000000</td>\n",
       "    </tr>\n",
       "    <tr>\n",
       "      <th>mean</th>\n",
       "      <td>6046.793478</td>\n",
       "    </tr>\n",
       "    <tr>\n",
       "      <th>std</th>\n",
       "      <td>1470.328104</td>\n",
       "    </tr>\n",
       "    <tr>\n",
       "      <th>min</th>\n",
       "      <td>742.000000</td>\n",
       "    </tr>\n",
       "    <tr>\n",
       "      <th>25%</th>\n",
       "      <td>5208.250000</td>\n",
       "    </tr>\n",
       "    <tr>\n",
       "      <th>50%</th>\n",
       "      <td>5813.500000</td>\n",
       "    </tr>\n",
       "    <tr>\n",
       "      <th>75%</th>\n",
       "      <td>7283.000000</td>\n",
       "    </tr>\n",
       "    <tr>\n",
       "      <th>max</th>\n",
       "      <td>9402.000000</td>\n",
       "    </tr>\n",
       "  </tbody>\n",
       "</table>\n",
       "</div>"
      ],
      "text/plain": [
       "              code\n",
       "count   184.000000\n",
       "mean   6046.793478\n",
       "std    1470.328104\n",
       "min     742.000000\n",
       "25%    5208.250000\n",
       "50%    5813.500000\n",
       "75%    7283.000000\n",
       "max    9402.000000"
      ]
     },
     "execution_count": 12,
     "metadata": {},
     "output_type": "execute_result"
    }
   ],
   "source": [
    "codes_data.describe()"
   ]
  },
  {
   "cell_type": "code",
   "execution_count": 13,
   "metadata": {},
   "outputs": [
    {
     "data": {
      "text/plain": [
       "code                 int64\n",
       "code_description    object\n",
       "dtype: object"
      ]
     },
     "execution_count": 13,
     "metadata": {},
     "output_type": "execute_result"
    }
   ],
   "source": [
    "codes_data.dtypes"
   ]
  },
  {
   "cell_type": "markdown",
   "metadata": {},
   "source": [
    "Let's verify uniquess of `code` column"
   ]
  },
  {
   "cell_type": "code",
   "execution_count": 14,
   "metadata": {},
   "outputs": [
    {
     "data": {
      "text/plain": [
       "True"
      ]
     },
     "execution_count": 14,
     "metadata": {},
     "output_type": "execute_result"
    }
   ],
   "source": [
    "codes_data['code'].is_unique"
   ]
  },
  {
   "cell_type": "markdown",
   "metadata": {},
   "source": [
    "Sode `code` column could be used as Id"
   ]
  },
  {
   "cell_type": "code",
   "execution_count": 15,
   "metadata": {},
   "outputs": [
    {
     "data": {
      "text/html": [
       "<div>\n",
       "<style scoped>\n",
       "    .dataframe tbody tr th:only-of-type {\n",
       "        vertical-align: middle;\n",
       "    }\n",
       "\n",
       "    .dataframe tbody tr th {\n",
       "        vertical-align: top;\n",
       "    }\n",
       "\n",
       "    .dataframe thead th {\n",
       "        text-align: right;\n",
       "    }\n",
       "</style>\n",
       "<table border=\"1\" class=\"dataframe\">\n",
       "  <thead>\n",
       "    <tr style=\"text-align: right;\">\n",
       "      <th></th>\n",
       "      <th>code_description</th>\n",
       "    </tr>\n",
       "    <tr>\n",
       "      <th>code</th>\n",
       "      <th></th>\n",
       "    </tr>\n",
       "  </thead>\n",
       "  <tbody>\n",
       "    <tr>\n",
       "      <th>5944</th>\n",
       "      <td>Магазины по продаже часов, ювелирных изделий и...</td>\n",
       "    </tr>\n",
       "    <tr>\n",
       "      <th>5621</th>\n",
       "      <td>Готовые сумочные изделия</td>\n",
       "    </tr>\n",
       "    <tr>\n",
       "      <th>5697</th>\n",
       "      <td>Услуги по переделке, починке и пошиву одежды</td>\n",
       "    </tr>\n",
       "    <tr>\n",
       "      <th>7995</th>\n",
       "      <td>Транзакции по азартным играм</td>\n",
       "    </tr>\n",
       "    <tr>\n",
       "      <th>5137</th>\n",
       "      <td>Мужская, женская и детская спец-одежда</td>\n",
       "    </tr>\n",
       "    <tr>\n",
       "      <th>...</th>\n",
       "      <td>...</td>\n",
       "    </tr>\n",
       "    <tr>\n",
       "      <th>5044</th>\n",
       "      <td>Офисное, фотографическое, фотокопировальное, и...</td>\n",
       "    </tr>\n",
       "    <tr>\n",
       "      <th>5983</th>\n",
       "      <td>Горючее топливо — уголь, нефть, разжиженный бе...</td>\n",
       "    </tr>\n",
       "    <tr>\n",
       "      <th>5994</th>\n",
       "      <td>Дилеры по продаже печатной продукции</td>\n",
       "    </tr>\n",
       "    <tr>\n",
       "      <th>5192</th>\n",
       "      <td>Книги, периодические издания и газеты</td>\n",
       "    </tr>\n",
       "    <tr>\n",
       "      <th>7922</th>\n",
       "      <td>Театральные продюсерские агентства</td>\n",
       "    </tr>\n",
       "  </tbody>\n",
       "</table>\n",
       "<p>184 rows × 1 columns</p>\n",
       "</div>"
      ],
      "text/plain": [
       "                                       code_description\n",
       "code                                                   \n",
       "5944  Магазины по продаже часов, ювелирных изделий и...\n",
       "5621                           Готовые сумочные изделия\n",
       "5697       Услуги по переделке, починке и пошиву одежды\n",
       "7995                       Транзакции по азартным играм\n",
       "5137             Мужская, женская и детская спец-одежда\n",
       "...                                                 ...\n",
       "5044  Офисное, фотографическое, фотокопировальное, и...\n",
       "5983  Горючее топливо — уголь, нефть, разжиженный бе...\n",
       "5994               Дилеры по продаже печатной продукции\n",
       "5192              Книги, периодические издания и газеты\n",
       "7922                 Театральные продюсерские агентства\n",
       "\n",
       "[184 rows x 1 columns]"
      ]
     },
     "execution_count": 15,
     "metadata": {},
     "output_type": "execute_result"
    }
   ],
   "source": [
    "codes_data.set_index('code', inplace = True)\n",
    "codes_data"
   ]
  },
  {
   "cell_type": "markdown",
   "metadata": {},
   "source": [
    "## types.csv"
   ]
  },
  {
   "cell_type": "markdown",
   "metadata": {},
   "source": [
    "`types.csv` file has 155 rows and 2 columns. Let's verify does `types_data` variable has correct shape"
   ]
  },
  {
   "cell_type": "code",
   "execution_count": 16,
   "metadata": {},
   "outputs": [
    {
     "data": {
      "text/plain": [
       "(155, 2)"
      ]
     },
     "execution_count": 16,
     "metadata": {},
     "output_type": "execute_result"
    }
   ],
   "source": [
    "types_data.shape"
   ]
  },
  {
   "cell_type": "markdown",
   "metadata": {},
   "source": [
    "So, `codes_data` has correctly information about provided dataset"
   ]
  },
  {
   "cell_type": "markdown",
   "metadata": {},
   "source": [
    "Let's explore `codes_data` columns and their types"
   ]
  },
  {
   "cell_type": "code",
   "execution_count": 17,
   "metadata": {},
   "outputs": [
    {
     "data": {
      "text/html": [
       "<div>\n",
       "<style scoped>\n",
       "    .dataframe tbody tr th:only-of-type {\n",
       "        vertical-align: middle;\n",
       "    }\n",
       "\n",
       "    .dataframe tbody tr th {\n",
       "        vertical-align: top;\n",
       "    }\n",
       "\n",
       "    .dataframe thead th {\n",
       "        text-align: right;\n",
       "    }\n",
       "</style>\n",
       "<table border=\"1\" class=\"dataframe\">\n",
       "  <thead>\n",
       "    <tr style=\"text-align: right;\">\n",
       "      <th></th>\n",
       "      <th>type</th>\n",
       "      <th>type_description</th>\n",
       "    </tr>\n",
       "  </thead>\n",
       "  <tbody>\n",
       "    <tr>\n",
       "      <th>0</th>\n",
       "      <td>8001</td>\n",
       "      <td>Установление расх. лимита по карте</td>\n",
       "    </tr>\n",
       "    <tr>\n",
       "      <th>1</th>\n",
       "      <td>2411</td>\n",
       "      <td>Перевод с карты на счет др.лица в одном тер. б...</td>\n",
       "    </tr>\n",
       "    <tr>\n",
       "      <th>2</th>\n",
       "      <td>4035</td>\n",
       "      <td>н/д(нет данных)</td>\n",
       "    </tr>\n",
       "    <tr>\n",
       "      <th>3</th>\n",
       "      <td>3001</td>\n",
       "      <td>Комиссия за обслуживание ссудного счета</td>\n",
       "    </tr>\n",
       "    <tr>\n",
       "      <th>4</th>\n",
       "      <td>2420</td>\n",
       "      <td>Перевод с карты на счет физ.лица в другом тер....</td>\n",
       "    </tr>\n",
       "  </tbody>\n",
       "</table>\n",
       "</div>"
      ],
      "text/plain": [
       "   type                                   type_description\n",
       "0  8001                 Установление расх. лимита по карте\n",
       "1  2411  Перевод с карты на счет др.лица в одном тер. б...\n",
       "2  4035                                    н/д(нет данных)\n",
       "3  3001            Комиссия за обслуживание ссудного счета\n",
       "4  2420  Перевод с карты на счет физ.лица в другом тер...."
      ]
     },
     "execution_count": 17,
     "metadata": {},
     "output_type": "execute_result"
    }
   ],
   "source": [
    "types_data.head()"
   ]
  },
  {
   "cell_type": "code",
   "execution_count": 18,
   "metadata": {},
   "outputs": [
    {
     "data": {
      "text/html": [
       "<div>\n",
       "<style scoped>\n",
       "    .dataframe tbody tr th:only-of-type {\n",
       "        vertical-align: middle;\n",
       "    }\n",
       "\n",
       "    .dataframe tbody tr th {\n",
       "        vertical-align: top;\n",
       "    }\n",
       "\n",
       "    .dataframe thead th {\n",
       "        text-align: right;\n",
       "    }\n",
       "</style>\n",
       "<table border=\"1\" class=\"dataframe\">\n",
       "  <thead>\n",
       "    <tr style=\"text-align: right;\">\n",
       "      <th></th>\n",
       "      <th>type</th>\n",
       "    </tr>\n",
       "  </thead>\n",
       "  <tbody>\n",
       "    <tr>\n",
       "      <th>count</th>\n",
       "      <td>155.000000</td>\n",
       "    </tr>\n",
       "    <tr>\n",
       "      <th>mean</th>\n",
       "      <td>10819.045161</td>\n",
       "    </tr>\n",
       "    <tr>\n",
       "      <th>std</th>\n",
       "      <td>80000.258847</td>\n",
       "    </tr>\n",
       "    <tr>\n",
       "      <th>min</th>\n",
       "      <td>1000.000000</td>\n",
       "    </tr>\n",
       "    <tr>\n",
       "      <th>25%</th>\n",
       "      <td>2385.500000</td>\n",
       "    </tr>\n",
       "    <tr>\n",
       "      <th>50%</th>\n",
       "      <td>4040.000000</td>\n",
       "    </tr>\n",
       "    <tr>\n",
       "      <th>75%</th>\n",
       "      <td>7027.500000</td>\n",
       "    </tr>\n",
       "    <tr>\n",
       "      <th>max</th>\n",
       "      <td>999999.000000</td>\n",
       "    </tr>\n",
       "  </tbody>\n",
       "</table>\n",
       "</div>"
      ],
      "text/plain": [
       "                type\n",
       "count     155.000000\n",
       "mean    10819.045161\n",
       "std     80000.258847\n",
       "min      1000.000000\n",
       "25%      2385.500000\n",
       "50%      4040.000000\n",
       "75%      7027.500000\n",
       "max    999999.000000"
      ]
     },
     "execution_count": 18,
     "metadata": {},
     "output_type": "execute_result"
    }
   ],
   "source": [
    "types_data.describe()"
   ]
  },
  {
   "cell_type": "code",
   "execution_count": 19,
   "metadata": {},
   "outputs": [
    {
     "data": {
      "text/plain": [
       "type                 int64\n",
       "type_description    object\n",
       "dtype: object"
      ]
     },
     "execution_count": 19,
     "metadata": {},
     "output_type": "execute_result"
    }
   ],
   "source": [
    "types_data.dtypes"
   ]
  },
  {
   "cell_type": "markdown",
   "metadata": {},
   "source": [
    "Let's verify uniquess of `type` column"
   ]
  },
  {
   "cell_type": "code",
   "execution_count": 20,
   "metadata": {},
   "outputs": [
    {
     "data": {
      "text/plain": [
       "True"
      ]
     },
     "execution_count": 20,
     "metadata": {},
     "output_type": "execute_result"
    }
   ],
   "source": [
    "types_data['type'].is_unique"
   ]
  },
  {
   "cell_type": "markdown",
   "metadata": {},
   "source": [
    "Sode `type` column could be used as Id"
   ]
  },
  {
   "cell_type": "code",
   "execution_count": 21,
   "metadata": {
    "scrolled": true
   },
   "outputs": [
    {
     "data": {
      "text/html": [
       "<div>\n",
       "<style scoped>\n",
       "    .dataframe tbody tr th:only-of-type {\n",
       "        vertical-align: middle;\n",
       "    }\n",
       "\n",
       "    .dataframe tbody tr th {\n",
       "        vertical-align: top;\n",
       "    }\n",
       "\n",
       "    .dataframe thead th {\n",
       "        text-align: right;\n",
       "    }\n",
       "</style>\n",
       "<table border=\"1\" class=\"dataframe\">\n",
       "  <thead>\n",
       "    <tr style=\"text-align: right;\">\n",
       "      <th></th>\n",
       "      <th>type_description</th>\n",
       "    </tr>\n",
       "    <tr>\n",
       "      <th>type</th>\n",
       "      <th></th>\n",
       "    </tr>\n",
       "  </thead>\n",
       "  <tbody>\n",
       "    <tr>\n",
       "      <th>8001</th>\n",
       "      <td>Установление расх. лимита по карте</td>\n",
       "    </tr>\n",
       "    <tr>\n",
       "      <th>2411</th>\n",
       "      <td>Перевод с карты на счет др.лица в одном тер. б...</td>\n",
       "    </tr>\n",
       "    <tr>\n",
       "      <th>4035</th>\n",
       "      <td>н/д(нет данных)</td>\n",
       "    </tr>\n",
       "    <tr>\n",
       "      <th>3001</th>\n",
       "      <td>Комиссия за обслуживание ссудного счета</td>\n",
       "    </tr>\n",
       "    <tr>\n",
       "      <th>2420</th>\n",
       "      <td>Перевод с карты на счет физ.лица в другом тер....</td>\n",
       "    </tr>\n",
       "    <tr>\n",
       "      <th>...</th>\n",
       "      <td>...</td>\n",
       "    </tr>\n",
       "    <tr>\n",
       "      <th>4110</th>\n",
       "      <td>Плата за получение наличных в АТМ.</td>\n",
       "    </tr>\n",
       "    <tr>\n",
       "      <th>2320</th>\n",
       "      <td>Безналичный перевод денежных средств через POS</td>\n",
       "    </tr>\n",
       "    <tr>\n",
       "      <th>7040</th>\n",
       "      <td>Перевод на карту (с карты) через POS (в предел...</td>\n",
       "    </tr>\n",
       "    <tr>\n",
       "      <th>2433</th>\n",
       "      <td>Перевод с карты на счет физ.лица в другом банк...</td>\n",
       "    </tr>\n",
       "    <tr>\n",
       "      <th>2431</th>\n",
       "      <td>Перевод с карты на счет физ.лица в другом банк...</td>\n",
       "    </tr>\n",
       "  </tbody>\n",
       "</table>\n",
       "<p>155 rows × 1 columns</p>\n",
       "</div>"
      ],
      "text/plain": [
       "                                       type_description\n",
       "type                                                   \n",
       "8001                 Установление расх. лимита по карте\n",
       "2411  Перевод с карты на счет др.лица в одном тер. б...\n",
       "4035                                    н/д(нет данных)\n",
       "3001            Комиссия за обслуживание ссудного счета\n",
       "2420  Перевод с карты на счет физ.лица в другом тер....\n",
       "...                                                 ...\n",
       "4110                 Плата за получение наличных в АТМ.\n",
       "2320     Безналичный перевод денежных средств через POS\n",
       "7040  Перевод на карту (с карты) через POS (в предел...\n",
       "2433  Перевод с карты на счет физ.лица в другом банк...\n",
       "2431  Перевод с карты на счет физ.лица в другом банк...\n",
       "\n",
       "[155 rows x 1 columns]"
      ]
     },
     "execution_count": 21,
     "metadata": {},
     "output_type": "execute_result"
    }
   ],
   "source": [
    "types_data.set_index('type', inplace = True)\n",
    "types_data"
   ]
  },
  {
   "cell_type": "markdown",
   "metadata": {},
   "source": [
    "## Data visualtization and relationship analysis"
   ]
  },
  {
   "cell_type": "markdown",
   "metadata": {},
   "source": [
    "Let's look at `code` column in our training set:"
   ]
  },
  {
   "cell_type": "code",
   "execution_count": 22,
   "metadata": {},
   "outputs": [
    {
     "data": {
      "text/html": [
       "<div>\n",
       "<style scoped>\n",
       "    .dataframe tbody tr th:only-of-type {\n",
       "        vertical-align: middle;\n",
       "    }\n",
       "\n",
       "    .dataframe tbody tr th {\n",
       "        vertical-align: top;\n",
       "    }\n",
       "\n",
       "    .dataframe thead th {\n",
       "        text-align: right;\n",
       "    }\n",
       "</style>\n",
       "<table border=\"1\" class=\"dataframe\">\n",
       "  <thead>\n",
       "    <tr style=\"text-align: right;\">\n",
       "      <th></th>\n",
       "      <th>code</th>\n",
       "      <th>size</th>\n",
       "      <th>mean</th>\n",
       "    </tr>\n",
       "  </thead>\n",
       "  <tbody>\n",
       "    <tr>\n",
       "      <th>0</th>\n",
       "      <td>742</td>\n",
       "      <td>1</td>\n",
       "      <td>1.000000</td>\n",
       "    </tr>\n",
       "    <tr>\n",
       "      <th>1</th>\n",
       "      <td>3000</td>\n",
       "      <td>1</td>\n",
       "      <td>0.000000</td>\n",
       "    </tr>\n",
       "    <tr>\n",
       "      <th>2</th>\n",
       "      <td>4111</td>\n",
       "      <td>3</td>\n",
       "      <td>0.666667</td>\n",
       "    </tr>\n",
       "    <tr>\n",
       "      <th>3</th>\n",
       "      <td>4112</td>\n",
       "      <td>10</td>\n",
       "      <td>0.500000</td>\n",
       "    </tr>\n",
       "    <tr>\n",
       "      <th>4</th>\n",
       "      <td>4121</td>\n",
       "      <td>8</td>\n",
       "      <td>0.375000</td>\n",
       "    </tr>\n",
       "  </tbody>\n",
       "</table>\n",
       "</div>"
      ],
      "text/plain": [
       "   code  size      mean\n",
       "0   742     1  1.000000\n",
       "1  3000     1  0.000000\n",
       "2  4111     3  0.666667\n",
       "3  4112    10  0.500000\n",
       "4  4121     8  0.375000"
      ]
     },
     "execution_count": 22,
     "metadata": {},
     "output_type": "execute_result"
    }
   ],
   "source": [
    "code_groups = train_data.groupby(['code'])['target'].agg(['size', 'mean']).reset_index()\n",
    "code_groups.head()"
   ]
  },
  {
   "cell_type": "code",
   "execution_count": 23,
   "metadata": {
    "pycharm": {
     "name": "#%%\n"
    }
   },
   "outputs": [
    {
     "data": {
      "text/plain": [
       "count    105.000000\n",
       "mean      41.904762\n",
       "std      144.727763\n",
       "min        1.000000\n",
       "25%        1.000000\n",
       "50%        3.000000\n",
       "75%       10.000000\n",
       "max      945.000000\n",
       "Name: size, dtype: float64"
      ]
     },
     "execution_count": 23,
     "metadata": {},
     "output_type": "execute_result"
    }
   ],
   "source": [
    "code_groups['size'].describe()"
   ]
  },
  {
   "cell_type": "markdown",
   "metadata": {},
   "source": [
    "As we see, 50% of codes has less than 3 values and 75% of codes has less than 10 value. So `code` column is very unbalanced"
   ]
  },
  {
   "cell_type": "code",
   "execution_count": 24,
   "metadata": {
    "pycharm": {
     "name": "#%%\n"
    }
   },
   "outputs": [
    {
     "data": {
      "text/html": [
       "<div>\n",
       "<style scoped>\n",
       "    .dataframe tbody tr th:only-of-type {\n",
       "        vertical-align: middle;\n",
       "    }\n",
       "\n",
       "    .dataframe tbody tr th {\n",
       "        vertical-align: top;\n",
       "    }\n",
       "\n",
       "    .dataframe thead th {\n",
       "        text-align: right;\n",
       "    }\n",
       "</style>\n",
       "<table border=\"1\" class=\"dataframe\">\n",
       "  <thead>\n",
       "    <tr style=\"text-align: right;\">\n",
       "      <th></th>\n",
       "      <th>code</th>\n",
       "      <th>size</th>\n",
       "      <th>mean</th>\n",
       "    </tr>\n",
       "  </thead>\n",
       "  <tbody>\n",
       "    <tr>\n",
       "      <th>76</th>\n",
       "      <td>6011</td>\n",
       "      <td>945</td>\n",
       "      <td>0.456085</td>\n",
       "    </tr>\n",
       "    <tr>\n",
       "      <th>30</th>\n",
       "      <td>5411</td>\n",
       "      <td>660</td>\n",
       "      <td>0.459091</td>\n",
       "    </tr>\n",
       "    <tr>\n",
       "      <th>75</th>\n",
       "      <td>6010</td>\n",
       "      <td>631</td>\n",
       "      <td>0.426307</td>\n",
       "    </tr>\n",
       "    <tr>\n",
       "      <th>10</th>\n",
       "      <td>4814</td>\n",
       "      <td>621</td>\n",
       "      <td>0.436393</td>\n",
       "    </tr>\n",
       "    <tr>\n",
       "      <th>12</th>\n",
       "      <td>4829</td>\n",
       "      <td>396</td>\n",
       "      <td>0.489899</td>\n",
       "    </tr>\n",
       "    <tr>\n",
       "      <th>33</th>\n",
       "      <td>5499</td>\n",
       "      <td>240</td>\n",
       "      <td>0.445833</td>\n",
       "    </tr>\n",
       "    <tr>\n",
       "      <th>28</th>\n",
       "      <td>5331</td>\n",
       "      <td>91</td>\n",
       "      <td>0.439560</td>\n",
       "    </tr>\n",
       "    <tr>\n",
       "      <th>54</th>\n",
       "      <td>5812</td>\n",
       "      <td>79</td>\n",
       "      <td>0.455696</td>\n",
       "    </tr>\n",
       "    <tr>\n",
       "      <th>57</th>\n",
       "      <td>5912</td>\n",
       "      <td>75</td>\n",
       "      <td>0.440000</td>\n",
       "    </tr>\n",
       "    <tr>\n",
       "      <th>36</th>\n",
       "      <td>5541</td>\n",
       "      <td>68</td>\n",
       "      <td>0.426471</td>\n",
       "    </tr>\n",
       "    <tr>\n",
       "      <th>56</th>\n",
       "      <td>5814</td>\n",
       "      <td>61</td>\n",
       "      <td>0.508197</td>\n",
       "    </tr>\n",
       "    <tr>\n",
       "      <th>74</th>\n",
       "      <td>5999</td>\n",
       "      <td>33</td>\n",
       "      <td>0.545455</td>\n",
       "    </tr>\n",
       "    <tr>\n",
       "      <th>69</th>\n",
       "      <td>5977</td>\n",
       "      <td>29</td>\n",
       "      <td>0.551724</td>\n",
       "    </tr>\n",
       "    <tr>\n",
       "      <th>58</th>\n",
       "      <td>5921</td>\n",
       "      <td>26</td>\n",
       "      <td>0.461538</td>\n",
       "    </tr>\n",
       "    <tr>\n",
       "      <th>67</th>\n",
       "      <td>5964</td>\n",
       "      <td>25</td>\n",
       "      <td>0.400000</td>\n",
       "    </tr>\n",
       "    <tr>\n",
       "      <th>27</th>\n",
       "      <td>5311</td>\n",
       "      <td>22</td>\n",
       "      <td>0.454545</td>\n",
       "    </tr>\n",
       "    <tr>\n",
       "      <th>92</th>\n",
       "      <td>7995</td>\n",
       "      <td>21</td>\n",
       "      <td>0.285714</td>\n",
       "    </tr>\n",
       "    <tr>\n",
       "      <th>20</th>\n",
       "      <td>5200</td>\n",
       "      <td>19</td>\n",
       "      <td>0.368421</td>\n",
       "    </tr>\n",
       "    <tr>\n",
       "      <th>102</th>\n",
       "      <td>8999</td>\n",
       "      <td>18</td>\n",
       "      <td>0.388889</td>\n",
       "    </tr>\n",
       "    <tr>\n",
       "      <th>70</th>\n",
       "      <td>5983</td>\n",
       "      <td>18</td>\n",
       "      <td>0.555556</td>\n",
       "    </tr>\n",
       "  </tbody>\n",
       "</table>\n",
       "</div>"
      ],
      "text/plain": [
       "     code  size      mean\n",
       "76   6011   945  0.456085\n",
       "30   5411   660  0.459091\n",
       "75   6010   631  0.426307\n",
       "10   4814   621  0.436393\n",
       "12   4829   396  0.489899\n",
       "33   5499   240  0.445833\n",
       "28   5331    91  0.439560\n",
       "54   5812    79  0.455696\n",
       "57   5912    75  0.440000\n",
       "36   5541    68  0.426471\n",
       "56   5814    61  0.508197\n",
       "74   5999    33  0.545455\n",
       "69   5977    29  0.551724\n",
       "58   5921    26  0.461538\n",
       "67   5964    25  0.400000\n",
       "27   5311    22  0.454545\n",
       "92   7995    21  0.285714\n",
       "20   5200    19  0.368421\n",
       "102  8999    18  0.388889\n",
       "70   5983    18  0.555556"
      ]
     },
     "execution_count": 24,
     "metadata": {},
     "output_type": "execute_result"
    }
   ],
   "source": [
    "code_groups = code_groups.sort_values('size', ascending = False)\n",
    "code_groups.head(20)"
   ]
  },
  {
   "cell_type": "markdown",
   "metadata": {
    "pycharm": {
     "name": "#%% md\n"
    }
   },
   "source": [
    "Also, we see, that most of the popular codes has mean around 0.5, so very few values `code` column are important:"
   ]
  },
  {
   "cell_type": "code",
   "execution_count": 25,
   "metadata": {
    "pycharm": {
     "name": "#%%\n"
    }
   },
   "outputs": [
    {
     "data": {
      "text/html": [
       "<div>\n",
       "<style scoped>\n",
       "    .dataframe tbody tr th:only-of-type {\n",
       "        vertical-align: middle;\n",
       "    }\n",
       "\n",
       "    .dataframe tbody tr th {\n",
       "        vertical-align: top;\n",
       "    }\n",
       "\n",
       "    .dataframe thead th {\n",
       "        text-align: right;\n",
       "    }\n",
       "</style>\n",
       "<table border=\"1\" class=\"dataframe\">\n",
       "  <thead>\n",
       "    <tr style=\"text-align: right;\">\n",
       "      <th></th>\n",
       "      <th>code</th>\n",
       "      <th>size</th>\n",
       "      <th>mean</th>\n",
       "      <th>code_description</th>\n",
       "    </tr>\n",
       "  </thead>\n",
       "  <tbody>\n",
       "    <tr>\n",
       "      <th>92</th>\n",
       "      <td>7995</td>\n",
       "      <td>21</td>\n",
       "      <td>0.285714</td>\n",
       "      <td>Транзакции по азартным играм</td>\n",
       "    </tr>\n",
       "    <tr>\n",
       "      <th>21</th>\n",
       "      <td>5211</td>\n",
       "      <td>16</td>\n",
       "      <td>0.312500</td>\n",
       "      <td>Лесо- и строительный материал</td>\n",
       "    </tr>\n",
       "    <tr>\n",
       "      <th>40</th>\n",
       "      <td>5641</td>\n",
       "      <td>11</td>\n",
       "      <td>0.272727</td>\n",
       "      <td>Детская одежда, включая одежду для самых мален...</td>\n",
       "    </tr>\n",
       "    <tr>\n",
       "      <th>51</th>\n",
       "      <td>5732</td>\n",
       "      <td>9</td>\n",
       "      <td>0.222222</td>\n",
       "      <td>Продажа электронного оборудования</td>\n",
       "    </tr>\n",
       "    <tr>\n",
       "      <th>78</th>\n",
       "      <td>6051</td>\n",
       "      <td>8</td>\n",
       "      <td>0.750000</td>\n",
       "      <td>Не-финансовые институты — иностранная валюта, ...</td>\n",
       "    </tr>\n",
       "    <tr>\n",
       "      <th>46</th>\n",
       "      <td>5699</td>\n",
       "      <td>8</td>\n",
       "      <td>0.250000</td>\n",
       "      <td>Различные магазины одежды и аксессуаров</td>\n",
       "    </tr>\n",
       "    <tr>\n",
       "      <th>77</th>\n",
       "      <td>6012</td>\n",
       "      <td>7</td>\n",
       "      <td>0.142857</td>\n",
       "      <td>Финансовые институты — торговля и услуги</td>\n",
       "    </tr>\n",
       "    <tr>\n",
       "      <th>99</th>\n",
       "      <td>8099</td>\n",
       "      <td>6</td>\n",
       "      <td>0.333333</td>\n",
       "      <td>Практикующие врачи, медицинские услуги, нигде ...</td>\n",
       "    </tr>\n",
       "    <tr>\n",
       "      <th>47</th>\n",
       "      <td>5712</td>\n",
       "      <td>5</td>\n",
       "      <td>0.200000</td>\n",
       "      <td>Оборудование, мебель и бытовые принадлежности ...</td>\n",
       "    </tr>\n",
       "    <tr>\n",
       "      <th>80</th>\n",
       "      <td>6536</td>\n",
       "      <td>5</td>\n",
       "      <td>0.200000</td>\n",
       "      <td>Денежные переводы MasterCard MoneySend</td>\n",
       "    </tr>\n",
       "  </tbody>\n",
       "</table>\n",
       "</div>"
      ],
      "text/plain": [
       "    code  size      mean                                   code_description\n",
       "92  7995    21  0.285714                       Транзакции по азартным играм\n",
       "21  5211    16  0.312500                      Лесо- и строительный материал\n",
       "40  5641    11  0.272727  Детская одежда, включая одежду для самых мален...\n",
       "51  5732     9  0.222222                  Продажа электронного оборудования\n",
       "78  6051     8  0.750000  Не-финансовые институты — иностранная валюта, ...\n",
       "46  5699     8  0.250000            Различные магазины одежды и аксессуаров\n",
       "77  6012     7  0.142857           Финансовые институты — торговля и услуги\n",
       "99  8099     6  0.333333  Практикующие врачи, медицинские услуги, нигде ...\n",
       "47  5712     5  0.200000  Оборудование, мебель и бытовые принадлежности ...\n",
       "80  6536     5  0.200000             Денежные переводы MasterCard MoneySend"
      ]
     },
     "execution_count": 25,
     "metadata": {},
     "output_type": "execute_result"
    }
   ],
   "source": [
    "meaningful_coef = 0.35\n",
    "min_size = 5\n",
    "meaningful_type_groups = code_groups[\n",
    "    ((code_groups['mean'] > 1 - meaningful_coef) | (code_groups['mean'] < meaningful_coef)) & (\n",
    "            code_groups['size'] >= min_size)]\n",
    "pd.merge(meaningful_type_groups, codes_data, left_on = 'code', right_index = True)"
   ]
  },
  {
   "cell_type": "markdown",
   "metadata": {},
   "source": [
    "These codes could be good separators"
   ]
  },
  {
   "cell_type": "markdown",
   "metadata": {},
   "source": [
    "Let make similar investigation for `type` variable"
   ]
  },
  {
   "cell_type": "code",
   "execution_count": 26,
   "metadata": {},
   "outputs": [
    {
     "data": {
      "text/html": [
       "<div>\n",
       "<style scoped>\n",
       "    .dataframe tbody tr th:only-of-type {\n",
       "        vertical-align: middle;\n",
       "    }\n",
       "\n",
       "    .dataframe tbody tr th {\n",
       "        vertical-align: top;\n",
       "    }\n",
       "\n",
       "    .dataframe thead th {\n",
       "        text-align: right;\n",
       "    }\n",
       "</style>\n",
       "<table border=\"1\" class=\"dataframe\">\n",
       "  <thead>\n",
       "    <tr style=\"text-align: right;\">\n",
       "      <th></th>\n",
       "      <th>type</th>\n",
       "      <th>size</th>\n",
       "      <th>mean</th>\n",
       "    </tr>\n",
       "  </thead>\n",
       "  <tbody>\n",
       "    <tr>\n",
       "      <th>0</th>\n",
       "      <td>1010</td>\n",
       "      <td>1030</td>\n",
       "      <td>0.468932</td>\n",
       "    </tr>\n",
       "    <tr>\n",
       "      <th>1</th>\n",
       "      <td>1030</td>\n",
       "      <td>612</td>\n",
       "      <td>0.434641</td>\n",
       "    </tr>\n",
       "    <tr>\n",
       "      <th>2</th>\n",
       "      <td>1100</td>\n",
       "      <td>79</td>\n",
       "      <td>0.481013</td>\n",
       "    </tr>\n",
       "    <tr>\n",
       "      <th>3</th>\n",
       "      <td>1110</td>\n",
       "      <td>609</td>\n",
       "      <td>0.431856</td>\n",
       "    </tr>\n",
       "    <tr>\n",
       "      <th>4</th>\n",
       "      <td>1200</td>\n",
       "      <td>64</td>\n",
       "      <td>0.375000</td>\n",
       "    </tr>\n",
       "  </tbody>\n",
       "</table>\n",
       "</div>"
      ],
      "text/plain": [
       "   type  size      mean\n",
       "0  1010  1030  0.468932\n",
       "1  1030   612  0.434641\n",
       "2  1100    79  0.481013\n",
       "3  1110   609  0.431856\n",
       "4  1200    64  0.375000"
      ]
     },
     "execution_count": 26,
     "metadata": {},
     "output_type": "execute_result"
    }
   ],
   "source": [
    "type_groups = train_data.groupby(['type'])['target'].agg(['size', 'mean']).reset_index()\n",
    "type_groups.head()"
   ]
  },
  {
   "cell_type": "code",
   "execution_count": 27,
   "metadata": {
    "pycharm": {
     "name": "#%%\n"
    }
   },
   "outputs": [
    {
     "data": {
      "text/plain": [
       "count      44.000000\n",
       "mean      100.000000\n",
       "std       222.970537\n",
       "min         1.000000\n",
       "25%         2.500000\n",
       "50%        10.500000\n",
       "75%        49.250000\n",
       "max      1030.000000\n",
       "Name: size, dtype: float64"
      ]
     },
     "execution_count": 27,
     "metadata": {},
     "output_type": "execute_result"
    }
   ],
   "source": [
    "type_groups['size'].describe()"
   ]
  },
  {
   "cell_type": "markdown",
   "metadata": {},
   "source": [
    "50% of types has less than 10 values and maximum column has 1030 values. This column could be considered as unbalanced too "
   ]
  },
  {
   "cell_type": "code",
   "execution_count": 28,
   "metadata": {
    "pycharm": {
     "name": "#%%\n"
    }
   },
   "outputs": [
    {
     "data": {
      "text/html": [
       "<div>\n",
       "<style scoped>\n",
       "    .dataframe tbody tr th:only-of-type {\n",
       "        vertical-align: middle;\n",
       "    }\n",
       "\n",
       "    .dataframe tbody tr th {\n",
       "        vertical-align: top;\n",
       "    }\n",
       "\n",
       "    .dataframe thead th {\n",
       "        text-align: right;\n",
       "    }\n",
       "</style>\n",
       "<table border=\"1\" class=\"dataframe\">\n",
       "  <thead>\n",
       "    <tr style=\"text-align: right;\">\n",
       "      <th></th>\n",
       "      <th>type</th>\n",
       "      <th>size</th>\n",
       "      <th>mean</th>\n",
       "    </tr>\n",
       "  </thead>\n",
       "  <tbody>\n",
       "    <tr>\n",
       "      <th>0</th>\n",
       "      <td>1010</td>\n",
       "      <td>1030</td>\n",
       "      <td>0.468932</td>\n",
       "    </tr>\n",
       "    <tr>\n",
       "      <th>7</th>\n",
       "      <td>2010</td>\n",
       "      <td>690</td>\n",
       "      <td>0.442029</td>\n",
       "    </tr>\n",
       "    <tr>\n",
       "      <th>1</th>\n",
       "      <td>1030</td>\n",
       "      <td>612</td>\n",
       "      <td>0.434641</td>\n",
       "    </tr>\n",
       "    <tr>\n",
       "      <th>3</th>\n",
       "      <td>1110</td>\n",
       "      <td>609</td>\n",
       "      <td>0.431856</td>\n",
       "    </tr>\n",
       "    <tr>\n",
       "      <th>40</th>\n",
       "      <td>7070</td>\n",
       "      <td>435</td>\n",
       "      <td>0.427586</td>\n",
       "    </tr>\n",
       "    <tr>\n",
       "      <th>17</th>\n",
       "      <td>2370</td>\n",
       "      <td>222</td>\n",
       "      <td>0.495495</td>\n",
       "    </tr>\n",
       "    <tr>\n",
       "      <th>32</th>\n",
       "      <td>7010</td>\n",
       "      <td>155</td>\n",
       "      <td>0.496774</td>\n",
       "    </tr>\n",
       "    <tr>\n",
       "      <th>37</th>\n",
       "      <td>7030</td>\n",
       "      <td>98</td>\n",
       "      <td>0.428571</td>\n",
       "    </tr>\n",
       "    <tr>\n",
       "      <th>2</th>\n",
       "      <td>1100</td>\n",
       "      <td>79</td>\n",
       "      <td>0.481013</td>\n",
       "    </tr>\n",
       "    <tr>\n",
       "      <th>4</th>\n",
       "      <td>1200</td>\n",
       "      <td>64</td>\n",
       "      <td>0.375000</td>\n",
       "    </tr>\n",
       "    <tr>\n",
       "      <th>25</th>\n",
       "      <td>4071</td>\n",
       "      <td>50</td>\n",
       "      <td>0.560000</td>\n",
       "    </tr>\n",
       "    <tr>\n",
       "      <th>14</th>\n",
       "      <td>2330</td>\n",
       "      <td>49</td>\n",
       "      <td>0.489796</td>\n",
       "    </tr>\n",
       "    <tr>\n",
       "      <th>41</th>\n",
       "      <td>7071</td>\n",
       "      <td>49</td>\n",
       "      <td>0.346939</td>\n",
       "    </tr>\n",
       "    <tr>\n",
       "      <th>18</th>\n",
       "      <td>2371</td>\n",
       "      <td>44</td>\n",
       "      <td>0.431818</td>\n",
       "    </tr>\n",
       "    <tr>\n",
       "      <th>8</th>\n",
       "      <td>2011</td>\n",
       "      <td>40</td>\n",
       "      <td>0.425000</td>\n",
       "    </tr>\n",
       "    <tr>\n",
       "      <th>21</th>\n",
       "      <td>4010</td>\n",
       "      <td>22</td>\n",
       "      <td>0.590909</td>\n",
       "    </tr>\n",
       "    <tr>\n",
       "      <th>38</th>\n",
       "      <td>7031</td>\n",
       "      <td>18</td>\n",
       "      <td>0.500000</td>\n",
       "    </tr>\n",
       "    <tr>\n",
       "      <th>24</th>\n",
       "      <td>4051</td>\n",
       "      <td>14</td>\n",
       "      <td>0.428571</td>\n",
       "    </tr>\n",
       "    <tr>\n",
       "      <th>5</th>\n",
       "      <td>1210</td>\n",
       "      <td>14</td>\n",
       "      <td>0.500000</td>\n",
       "    </tr>\n",
       "    <tr>\n",
       "      <th>36</th>\n",
       "      <td>7021</td>\n",
       "      <td>14</td>\n",
       "      <td>0.428571</td>\n",
       "    </tr>\n",
       "  </tbody>\n",
       "</table>\n",
       "</div>"
      ],
      "text/plain": [
       "    type  size      mean\n",
       "0   1010  1030  0.468932\n",
       "7   2010   690  0.442029\n",
       "1   1030   612  0.434641\n",
       "3   1110   609  0.431856\n",
       "40  7070   435  0.427586\n",
       "17  2370   222  0.495495\n",
       "32  7010   155  0.496774\n",
       "37  7030    98  0.428571\n",
       "2   1100    79  0.481013\n",
       "4   1200    64  0.375000\n",
       "25  4071    50  0.560000\n",
       "14  2330    49  0.489796\n",
       "41  7071    49  0.346939\n",
       "18  2371    44  0.431818\n",
       "8   2011    40  0.425000\n",
       "21  4010    22  0.590909\n",
       "38  7031    18  0.500000\n",
       "24  4051    14  0.428571\n",
       "5   1210    14  0.500000\n",
       "36  7021    14  0.428571"
      ]
     },
     "execution_count": 28,
     "metadata": {},
     "output_type": "execute_result"
    }
   ],
   "source": [
    "type_groups.sort_values('size', ascending = False, inplace = True)\n",
    "type_groups.head(20)"
   ]
  },
  {
   "cell_type": "markdown",
   "metadata": {
    "pycharm": {
     "name": "#%% md\n"
    }
   },
   "source": [
    "We see similar results as for `code` column: most of the popular types has mean around 0.5, so very few values `type` column are important:"
   ]
  },
  {
   "cell_type": "code",
   "execution_count": 29,
   "metadata": {
    "pycharm": {
     "name": "#%%\n"
    },
    "scrolled": true
   },
   "outputs": [
    {
     "data": {
      "text/html": [
       "<div>\n",
       "<style scoped>\n",
       "    .dataframe tbody tr th:only-of-type {\n",
       "        vertical-align: middle;\n",
       "    }\n",
       "\n",
       "    .dataframe tbody tr th {\n",
       "        vertical-align: top;\n",
       "    }\n",
       "\n",
       "    .dataframe thead th {\n",
       "        text-align: right;\n",
       "    }\n",
       "</style>\n",
       "<table border=\"1\" class=\"dataframe\">\n",
       "  <thead>\n",
       "    <tr style=\"text-align: right;\">\n",
       "      <th></th>\n",
       "      <th>type</th>\n",
       "      <th>size</th>\n",
       "      <th>mean</th>\n",
       "      <th>type_description</th>\n",
       "    </tr>\n",
       "  </thead>\n",
       "  <tbody>\n",
       "    <tr>\n",
       "      <th>41</th>\n",
       "      <td>7071</td>\n",
       "      <td>49</td>\n",
       "      <td>0.346939</td>\n",
       "      <td>Перевод на карту (с карты) через Мобильный бан...</td>\n",
       "    </tr>\n",
       "    <tr>\n",
       "      <th>30</th>\n",
       "      <td>6110</td>\n",
       "      <td>11</td>\n",
       "      <td>0.181818</td>\n",
       "      <td>Возврат покупки. POS</td>\n",
       "    </tr>\n",
       "    <tr>\n",
       "      <th>11</th>\n",
       "      <td>2110</td>\n",
       "      <td>10</td>\n",
       "      <td>0.800000</td>\n",
       "      <td>Наличные. АТМ</td>\n",
       "    </tr>\n",
       "    <tr>\n",
       "      <th>33</th>\n",
       "      <td>7011</td>\n",
       "      <td>9</td>\n",
       "      <td>0.333333</td>\n",
       "      <td>Взнос наличных через АТМ</td>\n",
       "    </tr>\n",
       "    <tr>\n",
       "      <th>22</th>\n",
       "      <td>4011</td>\n",
       "      <td>6</td>\n",
       "      <td>0.333333</td>\n",
       "      <td>Плата за получение наличных в АТМ банка (в дру...</td>\n",
       "    </tr>\n",
       "  </tbody>\n",
       "</table>\n",
       "</div>"
      ],
      "text/plain": [
       "    type  size      mean                                   type_description\n",
       "41  7071    49  0.346939  Перевод на карту (с карты) через Мобильный бан...\n",
       "30  6110    11  0.181818                              Возврат покупки. POS \n",
       "11  2110    10  0.800000                                      Наличные. АТМ\n",
       "33  7011     9  0.333333                           Взнос наличных через АТМ\n",
       "22  4011     6  0.333333  Плата за получение наличных в АТМ банка (в дру..."
      ]
     },
     "execution_count": 29,
     "metadata": {},
     "output_type": "execute_result"
    }
   ],
   "source": [
    "meaningful_type_groups = type_groups[\n",
    "    ((type_groups['mean'] > 1 - meaningful_coef) | (type_groups['mean'] < meaningful_coef)) & (type_groups['size'] > 5)]\n",
    "pd.merge(meaningful_type_groups, types_data, left_on = 'type', right_index = True)"
   ]
  },
  {
   "cell_type": "markdown",
   "metadata": {},
   "source": [
    "These types would be good separators."
   ]
  },
  {
   "cell_type": "markdown",
   "metadata": {
    "pycharm": {
     "name": "#%% md\n"
    }
   },
   "source": [
    "Let's try to find some insights about combination of `code` and `type` columns"
   ]
  },
  {
   "cell_type": "code",
   "execution_count": 30,
   "metadata": {
    "pycharm": {
     "name": "#%%\n"
    }
   },
   "outputs": [
    {
     "data": {
      "text/html": [
       "<div>\n",
       "<style scoped>\n",
       "    .dataframe tbody tr th:only-of-type {\n",
       "        vertical-align: middle;\n",
       "    }\n",
       "\n",
       "    .dataframe tbody tr th {\n",
       "        vertical-align: top;\n",
       "    }\n",
       "\n",
       "    .dataframe thead th {\n",
       "        text-align: right;\n",
       "    }\n",
       "</style>\n",
       "<table border=\"1\" class=\"dataframe\">\n",
       "  <thead>\n",
       "    <tr style=\"text-align: right;\">\n",
       "      <th></th>\n",
       "      <th>code</th>\n",
       "      <th>type</th>\n",
       "      <th>size</th>\n",
       "      <th>mean</th>\n",
       "    </tr>\n",
       "  </thead>\n",
       "  <tbody>\n",
       "    <tr>\n",
       "      <th>156</th>\n",
       "      <td>6011</td>\n",
       "      <td>2010</td>\n",
       "      <td>690</td>\n",
       "      <td>0.442029</td>\n",
       "    </tr>\n",
       "    <tr>\n",
       "      <th>15</th>\n",
       "      <td>4814</td>\n",
       "      <td>1030</td>\n",
       "      <td>612</td>\n",
       "      <td>0.434641</td>\n",
       "    </tr>\n",
       "    <tr>\n",
       "      <th>152</th>\n",
       "      <td>6010</td>\n",
       "      <td>7070</td>\n",
       "      <td>435</td>\n",
       "      <td>0.427586</td>\n",
       "    </tr>\n",
       "    <tr>\n",
       "      <th>57</th>\n",
       "      <td>5411</td>\n",
       "      <td>1010</td>\n",
       "      <td>385</td>\n",
       "      <td>0.464935</td>\n",
       "    </tr>\n",
       "    <tr>\n",
       "      <th>58</th>\n",
       "      <td>5411</td>\n",
       "      <td>1110</td>\n",
       "      <td>270</td>\n",
       "      <td>0.451852</td>\n",
       "    </tr>\n",
       "    <tr>\n",
       "      <th>22</th>\n",
       "      <td>4829</td>\n",
       "      <td>2370</td>\n",
       "      <td>222</td>\n",
       "      <td>0.495495</td>\n",
       "    </tr>\n",
       "    <tr>\n",
       "      <th>64</th>\n",
       "      <td>5499</td>\n",
       "      <td>1010</td>\n",
       "      <td>203</td>\n",
       "      <td>0.472906</td>\n",
       "    </tr>\n",
       "    <tr>\n",
       "      <th>164</th>\n",
       "      <td>6011</td>\n",
       "      <td>7010</td>\n",
       "      <td>155</td>\n",
       "      <td>0.496774</td>\n",
       "    </tr>\n",
       "    <tr>\n",
       "      <th>149</th>\n",
       "      <td>6010</td>\n",
       "      <td>7030</td>\n",
       "      <td>98</td>\n",
       "      <td>0.428571</td>\n",
       "    </tr>\n",
       "    <tr>\n",
       "      <th>53</th>\n",
       "      <td>5331</td>\n",
       "      <td>1010</td>\n",
       "      <td>86</td>\n",
       "      <td>0.441860</td>\n",
       "    </tr>\n",
       "    <tr>\n",
       "      <th>109</th>\n",
       "      <td>5912</td>\n",
       "      <td>1010</td>\n",
       "      <td>55</td>\n",
       "      <td>0.472727</td>\n",
       "    </tr>\n",
       "    <tr>\n",
       "      <th>74</th>\n",
       "      <td>5541</td>\n",
       "      <td>1110</td>\n",
       "      <td>53</td>\n",
       "      <td>0.433962</td>\n",
       "    </tr>\n",
       "    <tr>\n",
       "      <th>26</th>\n",
       "      <td>4829</td>\n",
       "      <td>4071</td>\n",
       "      <td>50</td>\n",
       "      <td>0.560000</td>\n",
       "    </tr>\n",
       "    <tr>\n",
       "      <th>153</th>\n",
       "      <td>6010</td>\n",
       "      <td>7071</td>\n",
       "      <td>49</td>\n",
       "      <td>0.346939</td>\n",
       "    </tr>\n",
       "    <tr>\n",
       "      <th>19</th>\n",
       "      <td>4829</td>\n",
       "      <td>2330</td>\n",
       "      <td>49</td>\n",
       "      <td>0.489796</td>\n",
       "    </tr>\n",
       "    <tr>\n",
       "      <th>101</th>\n",
       "      <td>5812</td>\n",
       "      <td>1010</td>\n",
       "      <td>46</td>\n",
       "      <td>0.369565</td>\n",
       "    </tr>\n",
       "    <tr>\n",
       "      <th>23</th>\n",
       "      <td>4829</td>\n",
       "      <td>2371</td>\n",
       "      <td>44</td>\n",
       "      <td>0.431818</td>\n",
       "    </tr>\n",
       "    <tr>\n",
       "      <th>157</th>\n",
       "      <td>6011</td>\n",
       "      <td>2011</td>\n",
       "      <td>40</td>\n",
       "      <td>0.425000</td>\n",
       "    </tr>\n",
       "    <tr>\n",
       "      <th>107</th>\n",
       "      <td>5814</td>\n",
       "      <td>1110</td>\n",
       "      <td>38</td>\n",
       "      <td>0.500000</td>\n",
       "    </tr>\n",
       "    <tr>\n",
       "      <th>66</th>\n",
       "      <td>5499</td>\n",
       "      <td>1110</td>\n",
       "      <td>35</td>\n",
       "      <td>0.285714</td>\n",
       "    </tr>\n",
       "  </tbody>\n",
       "</table>\n",
       "</div>"
      ],
      "text/plain": [
       "     code  type  size      mean\n",
       "156  6011  2010   690  0.442029\n",
       "15   4814  1030   612  0.434641\n",
       "152  6010  7070   435  0.427586\n",
       "57   5411  1010   385  0.464935\n",
       "58   5411  1110   270  0.451852\n",
       "22   4829  2370   222  0.495495\n",
       "64   5499  1010   203  0.472906\n",
       "164  6011  7010   155  0.496774\n",
       "149  6010  7030    98  0.428571\n",
       "53   5331  1010    86  0.441860\n",
       "109  5912  1010    55  0.472727\n",
       "74   5541  1110    53  0.433962\n",
       "26   4829  4071    50  0.560000\n",
       "153  6010  7071    49  0.346939\n",
       "19   4829  2330    49  0.489796\n",
       "101  5812  1010    46  0.369565\n",
       "23   4829  2371    44  0.431818\n",
       "157  6011  2011    40  0.425000\n",
       "107  5814  1110    38  0.500000\n",
       "66   5499  1110    35  0.285714"
      ]
     },
     "execution_count": 30,
     "metadata": {},
     "output_type": "execute_result"
    }
   ],
   "source": [
    "code_type_groups = train_data.groupby(['code', 'type'])['target'].agg(['size', 'mean']).reset_index()\n",
    "code_type_groups = code_type_groups[code_type_groups['size'] > 0]\n",
    "code_type_groups = code_type_groups.sort_values('size', ascending = False)\n",
    "code_type_groups.head(20)"
   ]
  },
  {
   "cell_type": "code",
   "execution_count": 31,
   "metadata": {
    "pycharm": {
     "name": "#%%\n"
    }
   },
   "outputs": [
    {
     "data": {
      "text/html": [
       "<div>\n",
       "<style scoped>\n",
       "    .dataframe tbody tr th:only-of-type {\n",
       "        vertical-align: middle;\n",
       "    }\n",
       "\n",
       "    .dataframe tbody tr th {\n",
       "        vertical-align: top;\n",
       "    }\n",
       "\n",
       "    .dataframe thead th {\n",
       "        text-align: right;\n",
       "    }\n",
       "</style>\n",
       "<table border=\"1\" class=\"dataframe\">\n",
       "  <thead>\n",
       "    <tr style=\"text-align: right;\">\n",
       "      <th></th>\n",
       "      <th>code</th>\n",
       "      <th>type</th>\n",
       "      <th>size</th>\n",
       "      <th>mean</th>\n",
       "      <th>type_description</th>\n",
       "      <th>code_description</th>\n",
       "    </tr>\n",
       "  </thead>\n",
       "  <tbody>\n",
       "    <tr>\n",
       "      <th>153</th>\n",
       "      <td>6010</td>\n",
       "      <td>7071</td>\n",
       "      <td>49</td>\n",
       "      <td>0.346939</td>\n",
       "      <td>Перевод на карту (с карты) через Мобильный бан...</td>\n",
       "      <td>Финансовые институты — снятие наличности вручную</td>\n",
       "    </tr>\n",
       "    <tr>\n",
       "      <th>66</th>\n",
       "      <td>5499</td>\n",
       "      <td>1110</td>\n",
       "      <td>35</td>\n",
       "      <td>0.285714</td>\n",
       "      <td>Покупка. POS</td>\n",
       "      <td>Различные продовольственные магазины — рынки, ...</td>\n",
       "    </tr>\n",
       "    <tr>\n",
       "      <th>89</th>\n",
       "      <td>5691</td>\n",
       "      <td>1110</td>\n",
       "      <td>9</td>\n",
       "      <td>0.333333</td>\n",
       "      <td>Покупка. POS</td>\n",
       "      <td>Магазины мужской и женской одежды</td>\n",
       "    </tr>\n",
       "    <tr>\n",
       "      <th>98</th>\n",
       "      <td>5732</td>\n",
       "      <td>1110</td>\n",
       "      <td>8</td>\n",
       "      <td>0.250000</td>\n",
       "      <td>Покупка. POS</td>\n",
       "      <td>Продажа электронного оборудования</td>\n",
       "    </tr>\n",
       "    <tr>\n",
       "      <th>86</th>\n",
       "      <td>5661</td>\n",
       "      <td>1110</td>\n",
       "      <td>6</td>\n",
       "      <td>0.166667</td>\n",
       "      <td>Покупка. POS</td>\n",
       "      <td>Обувные магазины</td>\n",
       "    </tr>\n",
       "    <tr>\n",
       "      <th>85</th>\n",
       "      <td>5661</td>\n",
       "      <td>1010</td>\n",
       "      <td>5</td>\n",
       "      <td>1.000000</td>\n",
       "      <td>Покупка. POS</td>\n",
       "      <td>Обувные магазины</td>\n",
       "    </tr>\n",
       "    <tr>\n",
       "      <th>91</th>\n",
       "      <td>5699</td>\n",
       "      <td>1110</td>\n",
       "      <td>5</td>\n",
       "      <td>0.200000</td>\n",
       "      <td>Покупка. POS</td>\n",
       "      <td>Различные магазины одежды и аксессуаров</td>\n",
       "    </tr>\n",
       "    <tr>\n",
       "      <th>92</th>\n",
       "      <td>5712</td>\n",
       "      <td>1110</td>\n",
       "      <td>5</td>\n",
       "      <td>0.200000</td>\n",
       "      <td>Покупка. POS</td>\n",
       "      <td>Оборудование, мебель и бытовые принадлежности ...</td>\n",
       "    </tr>\n",
       "    <tr>\n",
       "      <th>127</th>\n",
       "      <td>5964</td>\n",
       "      <td>1200</td>\n",
       "      <td>23</td>\n",
       "      <td>0.347826</td>\n",
       "      <td>Покупка. Зарубеж.</td>\n",
       "      <td>Прямой маркетинг — торговля через каталог</td>\n",
       "    </tr>\n",
       "    <tr>\n",
       "      <th>193</th>\n",
       "      <td>7995</td>\n",
       "      <td>1200</td>\n",
       "      <td>18</td>\n",
       "      <td>0.333333</td>\n",
       "      <td>Покупка. Зарубеж.</td>\n",
       "      <td>Транзакции по азартным играм</td>\n",
       "    </tr>\n",
       "    <tr>\n",
       "      <th>41</th>\n",
       "      <td>5211</td>\n",
       "      <td>1010</td>\n",
       "      <td>12</td>\n",
       "      <td>0.333333</td>\n",
       "      <td>Покупка. POS</td>\n",
       "      <td>Лесо- и строительный материал</td>\n",
       "    </tr>\n",
       "    <tr>\n",
       "      <th>80</th>\n",
       "      <td>5641</td>\n",
       "      <td>1010</td>\n",
       "      <td>9</td>\n",
       "      <td>0.333333</td>\n",
       "      <td>Покупка. POS</td>\n",
       "      <td>Детская одежда, включая одежду для самых мален...</td>\n",
       "    </tr>\n",
       "    <tr>\n",
       "      <th>158</th>\n",
       "      <td>6011</td>\n",
       "      <td>2110</td>\n",
       "      <td>10</td>\n",
       "      <td>0.800000</td>\n",
       "      <td>Наличные. АТМ</td>\n",
       "      <td>Финансовые институты — снятие наличности автом...</td>\n",
       "    </tr>\n",
       "    <tr>\n",
       "      <th>165</th>\n",
       "      <td>6011</td>\n",
       "      <td>7011</td>\n",
       "      <td>9</td>\n",
       "      <td>0.333333</td>\n",
       "      <td>Взнос наличных через АТМ</td>\n",
       "      <td>Финансовые институты — снятие наличности автом...</td>\n",
       "    </tr>\n",
       "    <tr>\n",
       "      <th>161</th>\n",
       "      <td>6011</td>\n",
       "      <td>4011</td>\n",
       "      <td>6</td>\n",
       "      <td>0.333333</td>\n",
       "      <td>Плата за получение наличных в АТМ банка (в дру...</td>\n",
       "      <td>Финансовые институты — снятие наличности автом...</td>\n",
       "    </tr>\n",
       "    <tr>\n",
       "      <th>169</th>\n",
       "      <td>6051</td>\n",
       "      <td>1100</td>\n",
       "      <td>8</td>\n",
       "      <td>0.750000</td>\n",
       "      <td>Покупка.</td>\n",
       "      <td>Не-финансовые институты — иностранная валюта, ...</td>\n",
       "    </tr>\n",
       "    <tr>\n",
       "      <th>168</th>\n",
       "      <td>6012</td>\n",
       "      <td>6110</td>\n",
       "      <td>6</td>\n",
       "      <td>0.166667</td>\n",
       "      <td>Возврат покупки. POS</td>\n",
       "      <td>Финансовые институты — торговля и услуги</td>\n",
       "    </tr>\n",
       "  </tbody>\n",
       "</table>\n",
       "</div>"
      ],
      "text/plain": [
       "     code  type  size      mean  \\\n",
       "153  6010  7071    49  0.346939   \n",
       "66   5499  1110    35  0.285714   \n",
       "89   5691  1110     9  0.333333   \n",
       "98   5732  1110     8  0.250000   \n",
       "86   5661  1110     6  0.166667   \n",
       "85   5661  1010     5  1.000000   \n",
       "91   5699  1110     5  0.200000   \n",
       "92   5712  1110     5  0.200000   \n",
       "127  5964  1200    23  0.347826   \n",
       "193  7995  1200    18  0.333333   \n",
       "41   5211  1010    12  0.333333   \n",
       "80   5641  1010     9  0.333333   \n",
       "158  6011  2110    10  0.800000   \n",
       "165  6011  7011     9  0.333333   \n",
       "161  6011  4011     6  0.333333   \n",
       "169  6051  1100     8  0.750000   \n",
       "168  6012  6110     6  0.166667   \n",
       "\n",
       "                                      type_description  \\\n",
       "153  Перевод на карту (с карты) через Мобильный бан...   \n",
       "66                                       Покупка. POS    \n",
       "89                                       Покупка. POS    \n",
       "98                                       Покупка. POS    \n",
       "86                                       Покупка. POS    \n",
       "85                                       Покупка. POS    \n",
       "91                                       Покупка. POS    \n",
       "92                                       Покупка. POS    \n",
       "127                                 Покупка. Зарубеж.    \n",
       "193                                 Покупка. Зарубеж.    \n",
       "41                                       Покупка. POS    \n",
       "80                                       Покупка. POS    \n",
       "158                                      Наличные. АТМ   \n",
       "165                           Взнос наличных через АТМ   \n",
       "161  Плата за получение наличных в АТМ банка (в дру...   \n",
       "169                                           Покупка.   \n",
       "168                              Возврат покупки. POS    \n",
       "\n",
       "                                      code_description  \n",
       "153   Финансовые институты — снятие наличности вручную  \n",
       "66   Различные продовольственные магазины — рынки, ...  \n",
       "89                   Магазины мужской и женской одежды  \n",
       "98                   Продажа электронного оборудования  \n",
       "86                                    Обувные магазины  \n",
       "85                                    Обувные магазины  \n",
       "91             Различные магазины одежды и аксессуаров  \n",
       "92   Оборудование, мебель и бытовые принадлежности ...  \n",
       "127          Прямой маркетинг — торговля через каталог  \n",
       "193                       Транзакции по азартным играм  \n",
       "41                       Лесо- и строительный материал  \n",
       "80   Детская одежда, включая одежду для самых мален...  \n",
       "158  Финансовые институты — снятие наличности автом...  \n",
       "165  Финансовые институты — снятие наличности автом...  \n",
       "161  Финансовые институты — снятие наличности автом...  \n",
       "169  Не-финансовые институты — иностранная валюта, ...  \n",
       "168           Финансовые институты — торговля и услуги  "
      ]
     },
     "execution_count": 31,
     "metadata": {},
     "output_type": "execute_result"
    }
   ],
   "source": [
    "meaningful_code_type_groups = code_type_groups[\n",
    "    ((code_type_groups['mean'] > 1 - meaningful_coef) | (code_type_groups['mean'] < meaningful_coef)) & (\n",
    "            code_type_groups['size'] >= min_size)]\n",
    "meaningful_code_type_groups = pd.merge(meaningful_code_type_groups, types_data, left_on = 'type', right_index = True)\n",
    "meaningful_code_type_groups = pd.merge(meaningful_code_type_groups, codes_data, left_on = 'code', right_index = True)\n",
    "meaningful_code_type_groups"
   ]
  },
  {
   "cell_type": "markdown",
   "metadata": {},
   "source": [
    "Let's look at `client_id`column:"
   ]
  },
  {
   "cell_type": "code",
   "execution_count": 32,
   "metadata": {},
   "outputs": [
    {
     "name": "stdout",
     "output_type": "stream",
     "text": [
      "Total client size: 2886\n",
      "Maximum orders for 1 client: 107\n",
      "Amount of clients with 1 order: 2062\n"
     ]
    }
   ],
   "source": [
    "client_sizes = train_data.groupby(['client_id']).size()\n",
    "print('Total client size:', len(client_sizes))\n",
    "print('Maximum orders for 1 client:', client_sizes.max())\n",
    "print('Amount of clients with 1 order:', client_sizes[lambda x: x == 1].size)"
   ]
  },
  {
   "cell_type": "markdown",
   "metadata": {},
   "source": [
    "Let's look at `unknown_0` column (3-digit number from `datetime` column)"
   ]
  },
  {
   "cell_type": "code",
   "execution_count": 33,
   "metadata": {},
   "outputs": [
    {
     "data": {
      "text/plain": [
       "count    4400.000000\n",
       "mean      245.194318\n",
       "std       129.790589\n",
       "min         0.000000\n",
       "25%       136.000000\n",
       "50%       253.000000\n",
       "75%       356.000000\n",
       "max       456.000000\n",
       "Name: unknown_0, dtype: float64"
      ]
     },
     "execution_count": 33,
     "metadata": {},
     "output_type": "execute_result"
    }
   ],
   "source": [
    "train_data['unknown_0'].describe()"
   ]
  },
  {
   "cell_type": "code",
   "execution_count": 34,
   "metadata": {},
   "outputs": [
    {
     "data": {
      "text/plain": [
       "<AxesSubplot:xlabel='unknown_0', ylabel='time'>"
      ]
     },
     "execution_count": 34,
     "metadata": {},
     "output_type": "execute_result"
    },
    {
     "data": {
      "image/png": "[encoded data removed]",
      "text/plain": [
       "<Figure size 432x288 with 1 Axes>"
      ]
     },
     "metadata": {
      "needs_background": "light"
     },
     "output_type": "display_data"
    }
   ],
   "source": [
    "sns.scatterplot(data = train_data, x = 'unknown_0', y = 'time', hue = 'target')"
   ]
  },
  {
   "cell_type": "markdown",
   "metadata": {},
   "source": [
    "We can suppose, than `unknown_0` column might be useless"
   ]
  },
  {
   "cell_type": "markdown",
   "metadata": {},
   "source": [
    "Let's analyze `time` column:"
   ]
  },
  {
   "cell_type": "code",
   "execution_count": 35,
   "metadata": {},
   "outputs": [
    {
     "data": {
      "text/plain": [
       "0       79818\n",
       "1       27861\n",
       "2       57503\n",
       "3       42471\n",
       "4       19046\n",
       "        ...  \n",
       "4395        0\n",
       "4396    77346\n",
       "4397    22149\n",
       "4398    54284\n",
       "4399    53416\n",
       "Name: time, Length: 4400, dtype: int64"
      ]
     },
     "execution_count": 35,
     "metadata": {},
     "output_type": "execute_result"
    }
   ],
   "source": [
    "train_data['time']"
   ]
  },
  {
   "cell_type": "code",
   "execution_count": 36,
   "metadata": {},
   "outputs": [
    {
     "data": {
      "text/html": [
       "<div>\n",
       "<style scoped>\n",
       "    .dataframe tbody tr th:only-of-type {\n",
       "        vertical-align: middle;\n",
       "    }\n",
       "\n",
       "    .dataframe tbody tr th {\n",
       "        vertical-align: top;\n",
       "    }\n",
       "\n",
       "    .dataframe thead th {\n",
       "        text-align: right;\n",
       "    }\n",
       "</style>\n",
       "<table border=\"1\" class=\"dataframe\">\n",
       "  <thead>\n",
       "    <tr style=\"text-align: right;\">\n",
       "      <th></th>\n",
       "      <th>time</th>\n",
       "      <th>target</th>\n",
       "      <th>count</th>\n",
       "    </tr>\n",
       "  </thead>\n",
       "  <tbody>\n",
       "    <tr>\n",
       "      <th>0</th>\n",
       "      <td>0</td>\n",
       "      <td>0</td>\n",
       "      <td>6</td>\n",
       "    </tr>\n",
       "    <tr>\n",
       "      <th>1</th>\n",
       "      <td>0</td>\n",
       "      <td>1</td>\n",
       "      <td>6</td>\n",
       "    </tr>\n",
       "    <tr>\n",
       "      <th>2</th>\n",
       "      <td>1800</td>\n",
       "      <td>0</td>\n",
       "      <td>9</td>\n",
       "    </tr>\n",
       "    <tr>\n",
       "      <th>3</th>\n",
       "      <td>1800</td>\n",
       "      <td>1</td>\n",
       "      <td>2</td>\n",
       "    </tr>\n",
       "    <tr>\n",
       "      <th>4</th>\n",
       "      <td>3600</td>\n",
       "      <td>0</td>\n",
       "      <td>9</td>\n",
       "    </tr>\n",
       "    <tr>\n",
       "      <th>...</th>\n",
       "      <td>...</td>\n",
       "      <td>...</td>\n",
       "      <td>...</td>\n",
       "    </tr>\n",
       "    <tr>\n",
       "      <th>91</th>\n",
       "      <td>81000</td>\n",
       "      <td>1</td>\n",
       "      <td>19</td>\n",
       "    </tr>\n",
       "    <tr>\n",
       "      <th>92</th>\n",
       "      <td>82800</td>\n",
       "      <td>0</td>\n",
       "      <td>10</td>\n",
       "    </tr>\n",
       "    <tr>\n",
       "      <th>93</th>\n",
       "      <td>82800</td>\n",
       "      <td>1</td>\n",
       "      <td>11</td>\n",
       "    </tr>\n",
       "    <tr>\n",
       "      <th>94</th>\n",
       "      <td>84600</td>\n",
       "      <td>0</td>\n",
       "      <td>12</td>\n",
       "    </tr>\n",
       "    <tr>\n",
       "      <th>95</th>\n",
       "      <td>84600</td>\n",
       "      <td>1</td>\n",
       "      <td>12</td>\n",
       "    </tr>\n",
       "  </tbody>\n",
       "</table>\n",
       "<p>96 rows × 3 columns</p>\n",
       "</div>"
      ],
      "text/plain": [
       "     time  target  count\n",
       "0       0       0      6\n",
       "1       0       1      6\n",
       "2    1800       0      9\n",
       "3    1800       1      2\n",
       "4    3600       0      9\n",
       "..    ...     ...    ...\n",
       "91  81000       1     19\n",
       "92  82800       0     10\n",
       "93  82800       1     11\n",
       "94  84600       0     12\n",
       "95  84600       1     12\n",
       "\n",
       "[96 rows x 3 columns]"
      ]
     },
     "execution_count": 36,
     "metadata": {},
     "output_type": "execute_result"
    }
   ],
   "source": [
    "import numpy as np\n",
    "\n",
    "interval_count_sec = 1800\n",
    "time_data = train_data.groupby(\n",
    "    [pd.cut(train_data['time'], np.arange(0, 3600 * 24 / interval_count_sec + 1) * interval_count_sec),\n",
    "     'target']).size().rename('count').reset_index()\n",
    "time_data['time'] = time_data['time'].apply(lambda col: int(col.left))\n",
    "time_data"
   ]
  },
  {
   "cell_type": "code",
   "execution_count": 37,
   "metadata": {},
   "outputs": [
    {
     "data": {
      "image/png": "[encoded data removed]",
      "text/plain": [
       "<Figure size 432x288 with 1 Axes>"
      ]
     },
     "metadata": {
      "needs_background": "light"
     },
     "output_type": "display_data"
    }
   ],
   "source": [
    "import matplotlib.pyplot as plt\n",
    "\n",
    "plot = sns.lineplot(data = time_data, x = 'time', y = 'count', hue = 'target')\n",
    "plot.set_xlim(0, 3600 * 24)\n",
    "plot.set_xticks(np.arange(0, 3600 * 24 + 1, 3600 * 6))\n",
    "plot.set_xticklabels(['00:00', '06:00', '12:00', '18:00', '00:00'])\n",
    "plt.show()"
   ]
  },
  {
   "cell_type": "markdown",
   "metadata": {},
   "source": [
    "Wee can see that the biggest difference between target values are around 12:00"
   ]
  },
  {
   "cell_type": "markdown",
   "metadata": {},
   "source": [
    "Let's verify amount column"
   ]
  },
  {
   "cell_type": "code",
   "execution_count": 38,
   "metadata": {},
   "outputs": [
    {
     "data": {
      "text/html": [
       "<div>\n",
       "<style scoped>\n",
       "    .dataframe tbody tr th:only-of-type {\n",
       "        vertical-align: middle;\n",
       "    }\n",
       "\n",
       "    .dataframe tbody tr th {\n",
       "        vertical-align: top;\n",
       "    }\n",
       "\n",
       "    .dataframe thead th {\n",
       "        text-align: right;\n",
       "    }\n",
       "</style>\n",
       "<table border=\"1\" class=\"dataframe\">\n",
       "  <thead>\n",
       "    <tr style=\"text-align: right;\">\n",
       "      <th></th>\n",
       "      <th>mean</th>\n",
       "      <th>sum</th>\n",
       "      <th>size</th>\n",
       "      <th>median</th>\n",
       "    </tr>\n",
       "    <tr>\n",
       "      <th>target</th>\n",
       "      <th></th>\n",
       "      <th></th>\n",
       "      <th></th>\n",
       "      <th></th>\n",
       "    </tr>\n",
       "  </thead>\n",
       "  <tbody>\n",
       "    <tr>\n",
       "      <th>0</th>\n",
       "      <td>-18633.723834</td>\n",
       "      <td>-45056344.23</td>\n",
       "      <td>2418</td>\n",
       "      <td>-5235.230</td>\n",
       "    </tr>\n",
       "    <tr>\n",
       "      <th>1</th>\n",
       "      <td>-34608.032437</td>\n",
       "      <td>-68593120.29</td>\n",
       "      <td>1982</td>\n",
       "      <td>-5491.825</td>\n",
       "    </tr>\n",
       "  </tbody>\n",
       "</table>\n",
       "</div>"
      ],
      "text/plain": [
       "                mean          sum  size    median\n",
       "target                                           \n",
       "0      -18633.723834 -45056344.23  2418 -5235.230\n",
       "1      -34608.032437 -68593120.29  1982 -5491.825"
      ]
     },
     "execution_count": 38,
     "metadata": {},
     "output_type": "execute_result"
    }
   ],
   "source": [
    "train_data.groupby('target')['amount'].agg(['mean','sum','size','median'])"
   ]
  },
  {
   "cell_type": "markdown",
   "metadata": {},
   "source": [
    "We see, that statistics for  amount variables differs for different targets"
   ]
  },
  {
   "cell_type": "markdown",
   "metadata": {},
   "source": [
    "Let's verify target columns:"
   ]
  },
  {
   "cell_type": "code",
   "execution_count": 39,
   "metadata": {},
   "outputs": [
    {
     "data": {
      "text/plain": [
       "0    2418\n",
       "1    1982\n",
       "Name: target, dtype: int64"
      ]
     },
     "execution_count": 39,
     "metadata": {},
     "output_type": "execute_result"
    }
   ],
   "source": [
    "train_data['target'].value_counts()"
   ]
  },
  {
   "cell_type": "markdown",
   "metadata": {
    "pycharm": {
     "name": "#%% md\n"
    }
   },
   "source": [
    "So, the target parameter is rather balanced"
   ]
  },
  {
   "cell_type": "markdown",
   "metadata": {},
   "source": [
    "# Data manipulation"
   ]
  },
  {
   "cell_type": "markdown",
   "metadata": {},
   "source": [
    "Let's write a function for preparing input data"
   ]
  },
  {
   "cell_type": "code",
   "execution_count": 40,
   "metadata": {
    "pycharm": {
     "name": "#%%\n"
    }
   },
   "outputs": [],
   "source": [
    "def prepare(df):\n",
    "    df[['unknown_0', 'time']] = df['datetime'].str.split(' ', expand = True)\n",
    "    df.pop('datetime')\n",
    "    interval_count_sec = 900\n",
    "    df = df.join(pd.get_dummies(\n",
    "        pd.cut(df['time'].apply(convert_time_to_seconds),\n",
    "               np.arange(0, 3600 * 24 / interval_count_sec + 1) * interval_count_sec),\n",
    "        prefix = 'time'))\n",
    "    df.pop('time')\n",
    "    \n",
    "    df['amount_sign'] = df['amount'] >= 0\n",
    "    df['amount'] = df['amount'].apply(lambda x: abs(x))\n",
    "    \n",
    "    cat_vars = ['type', 'code', 'unknown_0']\n",
    "    for var in cat_vars:\n",
    "        cat_list = pd.get_dummies(df[var], prefix = var)\n",
    "        df = df.join(cat_list)\n",
    "        df.pop(var)\n",
    "\n",
    "    y = df.pop('target')\n",
    "\n",
    "    return df, y"
   ]
  },
  {
   "cell_type": "markdown",
   "metadata": {},
   "source": [
    "And execute it on our data"
   ]
  },
  {
   "cell_type": "code",
   "execution_count": 41,
   "metadata": {},
   "outputs": [],
   "source": [
    "X_train, Y_train = prepare(pd.read_csv('data/train.csv'))\n",
    "X_val, Y_val = prepare(pd.read_csv('data/val.csv'))"
   ]
  },
  {
   "cell_type": "markdown",
   "metadata": {},
   "source": [
    "Columns, which are missing in training or validation data are not informative. So, let delete them:"
   ]
  },
  {
   "cell_type": "code",
   "execution_count": 42,
   "metadata": {},
   "outputs": [],
   "source": [
    "def unite_columns(df1, df2: pd.DataFrame):\n",
    "    for col in df1.columns:\n",
    "        if col not in df2.columns:\n",
    "            df1.pop(col)\n",
    "    for col in df2.columns:\n",
    "        if col not in df1.columns:\n",
    "            df2.pop(col)"
   ]
  },
  {
   "cell_type": "code",
   "execution_count": 43,
   "metadata": {},
   "outputs": [],
   "source": [
    "unite_columns(X_train, X_val)"
   ]
  },
  {
   "cell_type": "markdown",
   "metadata": {},
   "source": [
    "Lets verify column count:"
   ]
  },
  {
   "cell_type": "code",
   "execution_count": 44,
   "metadata": {},
   "outputs": [
    {
     "data": {
      "text/plain": [
       "True"
      ]
     },
     "execution_count": 44,
     "metadata": {},
     "output_type": "execute_result"
    }
   ],
   "source": [
    "X_train.columns.size==X_val.columns.size"
   ]
  },
  {
   "cell_type": "markdown",
   "metadata": {},
   "source": [
    "Let use LogisticRegression as the most popular kind of binary classifier"
   ]
  },
  {
   "cell_type": "code",
   "execution_count": 45,
   "metadata": {},
   "outputs": [
    {
     "name": "stderr",
     "output_type": "stream",
     "text": [
      "D:\\data\\python\\3.10\\lib\\site-packages\\sklearn\\linear_model\\_sag.py:352: ConvergenceWarning: The max_iter was reached which means the coef_ did not converge\n",
      "  warnings.warn(\n"
     ]
    },
    {
     "data": {
      "text/plain": [
       "LogisticRegression(class_weight={0: 1982, 1: 2418}, solver='saga')"
      ]
     },
     "execution_count": 45,
     "metadata": {},
     "output_type": "execute_result"
    }
   ],
   "source": [
    "from sklearn.linear_model import LogisticRegression\n",
    "\n",
    "weights = {\n",
    "    0: Y_train.sum(),\n",
    "    1: Y_train.size - Y_train.sum()\n",
    "}\n",
    "\n",
    "model = LogisticRegression(solver = 'saga', class_weight=weights)\n",
    "model.fit(X_train, Y_train)"
   ]
  },
  {
   "cell_type": "code",
   "execution_count": 46,
   "metadata": {},
   "outputs": [],
   "source": [
    "from sklearn.metrics import accuracy_score, confusion_matrix, roc_auc_score, recall_score\n",
    "def verify_model(y_test, y_pred):\n",
    "    print(f'Accuracy Score: {accuracy_score(y_test, y_pred)}')\n",
    "    print(f'Confusion Matrix: \\n{confusion_matrix(y_test, y_pred)}')\n",
    "    print(f'Area Under Curve: {roc_auc_score(y_test, y_pred)}')\n",
    "    print(f'Recall score: {recall_score(y_test, y_pred)}')"
   ]
  },
  {
   "cell_type": "code",
   "execution_count": 47,
   "metadata": {},
   "outputs": [
    {
     "name": "stdout",
     "output_type": "stream",
     "text": [
      "Accuracy Score: 0.5675\n",
      "Confusion Matrix: \n",
      "[[454   0]\n",
      " [346   0]]\n",
      "Area Under Curve: 0.5\n",
      "Recall score: 0.0\n"
     ]
    }
   ],
   "source": [
    "verify_model(Y_val, model.predict(X_val))"
   ]
  },
  {
   "cell_type": "code",
   "execution_count": 48,
   "metadata": {},
   "outputs": [
    {
     "data": {
      "text/html": [
       "<div>\n",
       "<style scoped>\n",
       "    .dataframe tbody tr th:only-of-type {\n",
       "        vertical-align: middle;\n",
       "    }\n",
       "\n",
       "    .dataframe tbody tr th {\n",
       "        vertical-align: top;\n",
       "    }\n",
       "\n",
       "    .dataframe thead th {\n",
       "        text-align: right;\n",
       "    }\n",
       "</style>\n",
       "<table border=\"1\" class=\"dataframe\">\n",
       "  <thead>\n",
       "    <tr style=\"text-align: right;\">\n",
       "      <th></th>\n",
       "      <th>column</th>\n",
       "      <th>weight</th>\n",
       "    </tr>\n",
       "  </thead>\n",
       "  <tbody>\n",
       "    <tr>\n",
       "      <th>1</th>\n",
       "      <td>amount</td>\n",
       "      <td>3.427250e-05</td>\n",
       "    </tr>\n",
       "    <tr>\n",
       "      <th>0</th>\n",
       "      <td>client_id</td>\n",
       "      <td>-1.895622e-05</td>\n",
       "    </tr>\n",
       "    <tr>\n",
       "      <th>99</th>\n",
       "      <td>type_1010</td>\n",
       "      <td>9.626267e-10</td>\n",
       "    </tr>\n",
       "    <tr>\n",
       "      <th>132</th>\n",
       "      <td>code_4829</td>\n",
       "      <td>7.118911e-10</td>\n",
       "    </tr>\n",
       "    <tr>\n",
       "      <th>170</th>\n",
       "      <td>code_6010</td>\n",
       "      <td>-6.731257e-10</td>\n",
       "    </tr>\n",
       "    <tr>\n",
       "      <th>...</th>\n",
       "      <td>...</td>\n",
       "      <td>...</td>\n",
       "    </tr>\n",
       "    <tr>\n",
       "      <th>287</th>\n",
       "      <td>unknown_0_21</td>\n",
       "      <td>9.648306e-13</td>\n",
       "    </tr>\n",
       "    <tr>\n",
       "      <th>485</th>\n",
       "      <td>unknown_0_428</td>\n",
       "      <td>9.327207e-13</td>\n",
       "    </tr>\n",
       "    <tr>\n",
       "      <th>500</th>\n",
       "      <td>unknown_0_443</td>\n",
       "      <td>3.113572e-13</td>\n",
       "    </tr>\n",
       "    <tr>\n",
       "      <th>443</th>\n",
       "      <td>unknown_0_383</td>\n",
       "      <td>-4.348262e-14</td>\n",
       "    </tr>\n",
       "    <tr>\n",
       "      <th>7</th>\n",
       "      <td>time_(4500.0, 5400.0]</td>\n",
       "      <td>0.000000e+00</td>\n",
       "    </tr>\n",
       "  </tbody>\n",
       "</table>\n",
       "<p>559 rows × 2 columns</p>\n",
       "</div>"
      ],
      "text/plain": [
       "                    column        weight\n",
       "1                   amount  3.427250e-05\n",
       "0                client_id -1.895622e-05\n",
       "99               type_1010  9.626267e-10\n",
       "132              code_4829  7.118911e-10\n",
       "170              code_6010 -6.731257e-10\n",
       "..                     ...           ...\n",
       "287           unknown_0_21  9.648306e-13\n",
       "485          unknown_0_428  9.327207e-13\n",
       "500          unknown_0_443  3.113572e-13\n",
       "443          unknown_0_383 -4.348262e-14\n",
       "7    time_(4500.0, 5400.0]  0.000000e+00\n",
       "\n",
       "[559 rows x 2 columns]"
      ]
     },
     "execution_count": 48,
     "metadata": {},
     "output_type": "execute_result"
    }
   ],
   "source": [
    "result = pd.DataFrame(\n",
    "    {\n",
    "        'column': X_train.columns,\n",
    "        'weight': model.coef_.flatten()\n",
    "    }\n",
    ").sort_values('weight', ascending = False, key = abs)\n",
    "result"
   ]
  },
  {
   "cell_type": "code",
   "execution_count": 49,
   "metadata": {},
   "outputs": [],
   "source": [
    "def sec_to_time(sec):\n",
    "    return f'{int(sec / 3600 % 24):02d}:{int(sec % 3600 / 60):02d}:{sec % 60:02d}'"
   ]
  },
  {
   "cell_type": "code",
   "execution_count": 50,
   "metadata": {},
   "outputs": [
    {
     "data": {
      "text/html": [
       "<div>\n",
       "<style scoped>\n",
       "    .dataframe tbody tr th:only-of-type {\n",
       "        vertical-align: middle;\n",
       "    }\n",
       "\n",
       "    .dataframe tbody tr th {\n",
       "        vertical-align: top;\n",
       "    }\n",
       "\n",
       "    .dataframe thead th {\n",
       "        text-align: right;\n",
       "    }\n",
       "</style>\n",
       "<table border=\"1\" class=\"dataframe\">\n",
       "  <thead>\n",
       "    <tr style=\"text-align: right;\">\n",
       "      <th></th>\n",
       "      <th>column</th>\n",
       "      <th>weight</th>\n",
       "      <th>description</th>\n",
       "    </tr>\n",
       "  </thead>\n",
       "  <tbody>\n",
       "    <tr>\n",
       "      <th>1</th>\n",
       "      <td>amount</td>\n",
       "      <td>3.427250e-05</td>\n",
       "      <td>amount</td>\n",
       "    </tr>\n",
       "    <tr>\n",
       "      <th>0</th>\n",
       "      <td>client_id</td>\n",
       "      <td>-1.895622e-05</td>\n",
       "      <td>client_id</td>\n",
       "    </tr>\n",
       "    <tr>\n",
       "      <th>99</th>\n",
       "      <td>type_1010</td>\n",
       "      <td>9.626267e-10</td>\n",
       "      <td>Покупка. POS</td>\n",
       "    </tr>\n",
       "    <tr>\n",
       "      <th>132</th>\n",
       "      <td>code_4829</td>\n",
       "      <td>7.118911e-10</td>\n",
       "      <td>Денежные переводы</td>\n",
       "    </tr>\n",
       "    <tr>\n",
       "      <th>170</th>\n",
       "      <td>code_6010</td>\n",
       "      <td>-6.731257e-10</td>\n",
       "      <td>Финансовые институты — снятие наличности вручную</td>\n",
       "    </tr>\n",
       "    <tr>\n",
       "      <th>98</th>\n",
       "      <td>amount_sign</td>\n",
       "      <td>-5.858526e-10</td>\n",
       "      <td>amount_sign</td>\n",
       "    </tr>\n",
       "    <tr>\n",
       "      <th>100</th>\n",
       "      <td>type_1030</td>\n",
       "      <td>-5.393139e-10</td>\n",
       "      <td>Оплата услуги. Банкоматы</td>\n",
       "    </tr>\n",
       "    <tr>\n",
       "      <th>110</th>\n",
       "      <td>type_2370</td>\n",
       "      <td>5.041576e-10</td>\n",
       "      <td>Списание с карты на карту по операции &lt;перевод...</td>\n",
       "    </tr>\n",
       "    <tr>\n",
       "      <th>130</th>\n",
       "      <td>code_4814</td>\n",
       "      <td>-4.811493e-10</td>\n",
       "      <td>Звонки с использованием телефонов, считывающих...</td>\n",
       "    </tr>\n",
       "    <tr>\n",
       "      <th>52</th>\n",
       "      <td>time_(45000.0, 45900.0]</td>\n",
       "      <td>-4.348880e-10</td>\n",
       "      <td>12:30:00-12:45:00</td>\n",
       "    </tr>\n",
       "    <tr>\n",
       "      <th>124</th>\n",
       "      <td>type_7070</td>\n",
       "      <td>-4.060019e-10</td>\n",
       "      <td>Перевод на карту (с карты) через Мобильный бан...</td>\n",
       "    </tr>\n",
       "    <tr>\n",
       "      <th>102</th>\n",
       "      <td>type_1110</td>\n",
       "      <td>-3.945130e-10</td>\n",
       "      <td>Покупка. POS</td>\n",
       "    </tr>\n",
       "    <tr>\n",
       "      <th>118</th>\n",
       "      <td>type_7010</td>\n",
       "      <td>3.660381e-10</td>\n",
       "      <td>Взнос наличных через АТМ (в своем тер.банке)</td>\n",
       "    </tr>\n",
       "    <tr>\n",
       "      <th>105</th>\n",
       "      <td>type_2010</td>\n",
       "      <td>-3.501811e-10</td>\n",
       "      <td>Выдача наличных в АТМ</td>\n",
       "    </tr>\n",
       "    <tr>\n",
       "      <th>57</th>\n",
       "      <td>time_(49500.0, 50400.0]</td>\n",
       "      <td>3.326272e-10</td>\n",
       "      <td>13:45:00-14:00:00</td>\n",
       "    </tr>\n",
       "    <tr>\n",
       "      <th>84</th>\n",
       "      <td>time_(73800.0, 74700.0]</td>\n",
       "      <td>3.315186e-10</td>\n",
       "      <td>20:30:00-20:45:00</td>\n",
       "    </tr>\n",
       "    <tr>\n",
       "      <th>55</th>\n",
       "      <td>time_(47700.0, 48600.0]</td>\n",
       "      <td>-3.281399e-10</td>\n",
       "      <td>13:15:00-13:30:00</td>\n",
       "    </tr>\n",
       "    <tr>\n",
       "      <th>62</th>\n",
       "      <td>time_(54000.0, 54900.0]</td>\n",
       "      <td>3.253997e-10</td>\n",
       "      <td>15:00:00-15:15:00</td>\n",
       "    </tr>\n",
       "    <tr>\n",
       "      <th>73</th>\n",
       "      <td>time_(63900.0, 64800.0]</td>\n",
       "      <td>3.151311e-10</td>\n",
       "      <td>17:45:00-18:00:00</td>\n",
       "    </tr>\n",
       "    <tr>\n",
       "      <th>34</th>\n",
       "      <td>time_(28800.0, 29700.0]</td>\n",
       "      <td>-2.965613e-10</td>\n",
       "      <td>08:00:00-08:15:00</td>\n",
       "    </tr>\n",
       "  </tbody>\n",
       "</table>\n",
       "</div>"
      ],
      "text/plain": [
       "                      column        weight  \\\n",
       "1                     amount  3.427250e-05   \n",
       "0                  client_id -1.895622e-05   \n",
       "99                 type_1010  9.626267e-10   \n",
       "132                code_4829  7.118911e-10   \n",
       "170                code_6010 -6.731257e-10   \n",
       "98               amount_sign -5.858526e-10   \n",
       "100                type_1030 -5.393139e-10   \n",
       "110                type_2370  5.041576e-10   \n",
       "130                code_4814 -4.811493e-10   \n",
       "52   time_(45000.0, 45900.0] -4.348880e-10   \n",
       "124                type_7070 -4.060019e-10   \n",
       "102                type_1110 -3.945130e-10   \n",
       "118                type_7010  3.660381e-10   \n",
       "105                type_2010 -3.501811e-10   \n",
       "57   time_(49500.0, 50400.0]  3.326272e-10   \n",
       "84   time_(73800.0, 74700.0]  3.315186e-10   \n",
       "55   time_(47700.0, 48600.0] -3.281399e-10   \n",
       "62   time_(54000.0, 54900.0]  3.253997e-10   \n",
       "73   time_(63900.0, 64800.0]  3.151311e-10   \n",
       "34   time_(28800.0, 29700.0] -2.965613e-10   \n",
       "\n",
       "                                           description  \n",
       "1                                               amount  \n",
       "0                                            client_id  \n",
       "99                                       Покупка. POS   \n",
       "132                                  Денежные переводы  \n",
       "170   Финансовые институты — снятие наличности вручную  \n",
       "98                                         amount_sign  \n",
       "100                           Оплата услуги. Банкоматы  \n",
       "110  Списание с карты на карту по операции <перевод...  \n",
       "130  Звонки с использованием телефонов, считывающих...  \n",
       "52                                   12:30:00-12:45:00  \n",
       "124  Перевод на карту (с карты) через Мобильный бан...  \n",
       "102                                      Покупка. POS   \n",
       "118       Взнос наличных через АТМ (в своем тер.банке)  \n",
       "105                              Выдача наличных в АТМ  \n",
       "57                                   13:45:00-14:00:00  \n",
       "84                                   20:30:00-20:45:00  \n",
       "55                                   13:15:00-13:30:00  \n",
       "62                                   15:00:00-15:15:00  \n",
       "73                                   17:45:00-18:00:00  \n",
       "34                                   08:00:00-08:15:00  "
      ]
     },
     "execution_count": 50,
     "metadata": {},
     "output_type": "execute_result"
    }
   ],
   "source": [
    "description = []\n",
    "for col in result['column']:\n",
    "    if col.startswith('code_'):\n",
    "        code = int(col.replace('code_', ''))\n",
    "        t = codes_data.loc[code]['code_description']\n",
    "        description.append(t)\n",
    "    elif col.startswith('type_'):\n",
    "        type_ind = int(col.replace('type_', ''))\n",
    "        t = types_data.loc[type_ind]['type_description']\n",
    "        description.append(t)\n",
    "    elif col.startswith('time_'):\n",
    "        time_int = col.replace('time_(', '').replace(']', '').split(', ')\n",
    "        time = sec_to_time(int(float((time_int[0])))) + '-' + sec_to_time(int(float((time_int[1]))))\n",
    "        description.append(time)\n",
    "    else:\n",
    "        description.append(col)\n",
    "\n",
    "result['description'] = description\n",
    "result.head(20)"
   ]
  },
  {
   "cell_type": "markdown",
   "metadata": {},
   "source": [
    "We have predicted that model would use 'amount' variable and '12:30:00-12:45:00' time interval. But 57% of accuracy is too low. I think, that we couldn't make good predictions using this dataset"
   ]
  }
 ],
 "metadata": {
  "kernelspec": {
   "display_name": "Python 3 (ipykernel)",
   "language": "python",
   "name": "python3"
  },
  "language_info": {
   "codemirror_mode": {
    "name": "ipython",
    "version": 3
   },
   "file_extension": ".py",
   "mimetype": "text/x-python",
   "name": "python",
   "nbconvert_exporter": "python",
   "pygments_lexer": "ipython3",
   "version": "3.10.2"
  }
 },
 "nbformat": 4,
 "nbformat_minor": 1
}
